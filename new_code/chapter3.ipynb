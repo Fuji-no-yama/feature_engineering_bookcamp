{
 "cells": [
  {
   "cell_type": "markdown",
   "metadata": {},
   "source": [
    "**ライブラリのインポート**"
   ]
  },
  {
   "cell_type": "code",
   "execution_count": 312,
   "metadata": {},
   "outputs": [],
   "source": [
    "import pandas as pd\n",
    "from sklearn.impute import SimpleImputer  \n",
    "import matplotlib.pyplot as plot\n",
    "from feature_engine.imputation import EndTailImputer\n",
    "from sklearn.preprocessing import MinMaxScaler, StandardScaler, PowerTransformer, KBinsDiscretizer, MultiLabelBinarizer, FunctionTransformer\n",
    "from sklearn.base import BaseEstimator, TransformerMixin\n",
    "from sklearn.ensemble import ExtraTreesClassifier\n",
    "from sklearn.model_selection import GridSearchCV, train_test_split\n",
    "from sklearn.metrics import classification_report\n",
    "from sklearn.pipeline import Pipeline, FeatureUnion\n",
    "from sklearn.feature_selection import SelectKBest, mutual_info_classif, chi2, SelectFromModel\n",
    "from sklearn.tree import DecisionTreeClassifier\n",
    "import numpy as np\n",
    "import time"
   ]
  },
  {
   "cell_type": "markdown",
   "metadata": {},
   "source": [
    "**1. データの読み込みと簡単な解析**"
   ]
  },
  {
   "cell_type": "code",
   "execution_count": 267,
   "metadata": {},
   "outputs": [
    {
     "data": {
      "text/html": [
       "<div>\n",
       "<style scoped>\n",
       "    .dataframe tbody tr th:only-of-type {\n",
       "        vertical-align: middle;\n",
       "    }\n",
       "\n",
       "    .dataframe tbody tr th {\n",
       "        vertical-align: top;\n",
       "    }\n",
       "\n",
       "    .dataframe thead th {\n",
       "        text-align: right;\n",
       "    }\n",
       "</style>\n",
       "<table border=\"1\" class=\"dataframe\">\n",
       "  <thead>\n",
       "    <tr style=\"text-align: right;\">\n",
       "      <th></th>\n",
       "      <th>Diagnosis</th>\n",
       "      <th>InitialPCRDiagnosis</th>\n",
       "      <th>Age</th>\n",
       "      <th>Sex</th>\n",
       "      <th>neutrophil</th>\n",
       "      <th>serumLevelsOfWhiteBloodCell</th>\n",
       "      <th>lymphocytes</th>\n",
       "      <th>CReactiveProteinLevels</th>\n",
       "      <th>DurationOfIllness</th>\n",
       "      <th>CTscanResults</th>\n",
       "      <th>RiskFactors</th>\n",
       "      <th>GroundGlassOpacity</th>\n",
       "      <th>Diarrhea</th>\n",
       "      <th>Fever</th>\n",
       "      <th>Coughing</th>\n",
       "      <th>ShortnessOfBreath</th>\n",
       "      <th>SoreThroat</th>\n",
       "      <th>NauseaVomitting</th>\n",
       "      <th>Temperature</th>\n",
       "      <th>Fatigue</th>\n",
       "    </tr>\n",
       "  </thead>\n",
       "  <tbody>\n",
       "    <tr>\n",
       "      <th>0</th>\n",
       "      <td>H1N1</td>\n",
       "      <td>NaN</td>\n",
       "      <td>67.0</td>\n",
       "      <td>F</td>\n",
       "      <td>NaN</td>\n",
       "      <td>NaN</td>\n",
       "      <td>NaN</td>\n",
       "      <td>NaN</td>\n",
       "      <td>NaN</td>\n",
       "      <td>NaN</td>\n",
       "      <td>NaN</td>\n",
       "      <td>NaN</td>\n",
       "      <td>NaN</td>\n",
       "      <td>Yes</td>\n",
       "      <td>Yes</td>\n",
       "      <td>NaN</td>\n",
       "      <td>No</td>\n",
       "      <td>NaN</td>\n",
       "      <td>38.111111</td>\n",
       "      <td>No</td>\n",
       "    </tr>\n",
       "    <tr>\n",
       "      <th>1</th>\n",
       "      <td>H1N1</td>\n",
       "      <td>NaN</td>\n",
       "      <td>29.0</td>\n",
       "      <td>M</td>\n",
       "      <td>NaN</td>\n",
       "      <td>NaN</td>\n",
       "      <td>NaN</td>\n",
       "      <td>NaN</td>\n",
       "      <td>NaN</td>\n",
       "      <td>NaN</td>\n",
       "      <td>NaN</td>\n",
       "      <td>NaN</td>\n",
       "      <td>NaN</td>\n",
       "      <td>NaN</td>\n",
       "      <td>NaN</td>\n",
       "      <td>NaN</td>\n",
       "      <td>NaN</td>\n",
       "      <td>NaN</td>\n",
       "      <td>NaN</td>\n",
       "      <td>NaN</td>\n",
       "    </tr>\n",
       "    <tr>\n",
       "      <th>2</th>\n",
       "      <td>H1N1</td>\n",
       "      <td>NaN</td>\n",
       "      <td>22.0</td>\n",
       "      <td>F</td>\n",
       "      <td>NaN</td>\n",
       "      <td>NaN</td>\n",
       "      <td>NaN</td>\n",
       "      <td>NaN</td>\n",
       "      <td>NaN</td>\n",
       "      <td>NaN</td>\n",
       "      <td>NaN</td>\n",
       "      <td>NaN</td>\n",
       "      <td>NaN</td>\n",
       "      <td>NaN</td>\n",
       "      <td>NaN</td>\n",
       "      <td>NaN</td>\n",
       "      <td>NaN</td>\n",
       "      <td>NaN</td>\n",
       "      <td>NaN</td>\n",
       "      <td>NaN</td>\n",
       "    </tr>\n",
       "    <tr>\n",
       "      <th>3</th>\n",
       "      <td>H1N1</td>\n",
       "      <td>NaN</td>\n",
       "      <td>20.0</td>\n",
       "      <td>F</td>\n",
       "      <td>NaN</td>\n",
       "      <td>NaN</td>\n",
       "      <td>NaN</td>\n",
       "      <td>NaN</td>\n",
       "      <td>NaN</td>\n",
       "      <td>NaN</td>\n",
       "      <td>immuno</td>\n",
       "      <td>NaN</td>\n",
       "      <td>NaN</td>\n",
       "      <td>Yes</td>\n",
       "      <td>Yes</td>\n",
       "      <td>NaN</td>\n",
       "      <td>No</td>\n",
       "      <td>NaN</td>\n",
       "      <td>36.555556</td>\n",
       "      <td>Yes</td>\n",
       "    </tr>\n",
       "    <tr>\n",
       "      <th>4</th>\n",
       "      <td>H1N1</td>\n",
       "      <td>NaN</td>\n",
       "      <td>21.0</td>\n",
       "      <td>M</td>\n",
       "      <td>NaN</td>\n",
       "      <td>NaN</td>\n",
       "      <td>NaN</td>\n",
       "      <td>NaN</td>\n",
       "      <td>NaN</td>\n",
       "      <td>NaN</td>\n",
       "      <td>NaN</td>\n",
       "      <td>NaN</td>\n",
       "      <td>NaN</td>\n",
       "      <td>NaN</td>\n",
       "      <td>NaN</td>\n",
       "      <td>NaN</td>\n",
       "      <td>NaN</td>\n",
       "      <td>NaN</td>\n",
       "      <td>NaN</td>\n",
       "      <td>NaN</td>\n",
       "    </tr>\n",
       "  </tbody>\n",
       "</table>\n",
       "</div>"
      ],
      "text/plain": [
       "  Diagnosis InitialPCRDiagnosis   Age Sex  neutrophil  \\\n",
       "0      H1N1                 NaN  67.0   F         NaN   \n",
       "1      H1N1                 NaN  29.0   M         NaN   \n",
       "2      H1N1                 NaN  22.0   F         NaN   \n",
       "3      H1N1                 NaN  20.0   F         NaN   \n",
       "4      H1N1                 NaN  21.0   M         NaN   \n",
       "\n",
       "   serumLevelsOfWhiteBloodCell  lymphocytes CReactiveProteinLevels  \\\n",
       "0                          NaN          NaN                    NaN   \n",
       "1                          NaN          NaN                    NaN   \n",
       "2                          NaN          NaN                    NaN   \n",
       "3                          NaN          NaN                    NaN   \n",
       "4                          NaN          NaN                    NaN   \n",
       "\n",
       "   DurationOfIllness CTscanResults RiskFactors GroundGlassOpacity Diarrhea  \\\n",
       "0                NaN           NaN         NaN                NaN      NaN   \n",
       "1                NaN           NaN         NaN                NaN      NaN   \n",
       "2                NaN           NaN         NaN                NaN      NaN   \n",
       "3                NaN           NaN      immuno                NaN      NaN   \n",
       "4                NaN           NaN         NaN                NaN      NaN   \n",
       "\n",
       "  Fever Coughing ShortnessOfBreath SoreThroat NauseaVomitting  Temperature  \\\n",
       "0   Yes      Yes               NaN         No             NaN    38.111111   \n",
       "1   NaN      NaN               NaN        NaN             NaN          NaN   \n",
       "2   NaN      NaN               NaN        NaN             NaN          NaN   \n",
       "3   Yes      Yes               NaN         No             NaN    36.555556   \n",
       "4   NaN      NaN               NaN        NaN             NaN          NaN   \n",
       "\n",
       "  Fatigue  \n",
       "0      No  \n",
       "1     NaN  \n",
       "2     NaN  \n",
       "3     Yes  \n",
       "4     NaN  "
      ]
     },
     "execution_count": 267,
     "metadata": {},
     "output_type": "execute_result"
    }
   ],
   "source": [
    "data = pd.read_csv(\"/workspace/github_repo/data/covid_flu.csv\")\n",
    "data.head()"
   ]
  },
  {
   "cell_type": "code",
   "execution_count": 268,
   "metadata": {},
   "outputs": [
    {
     "data": {
      "text/html": [
       "<div>\n",
       "<style scoped>\n",
       "    .dataframe tbody tr th:only-of-type {\n",
       "        vertical-align: middle;\n",
       "    }\n",
       "\n",
       "    .dataframe tbody tr th {\n",
       "        vertical-align: top;\n",
       "    }\n",
       "\n",
       "    .dataframe thead th {\n",
       "        text-align: right;\n",
       "    }\n",
       "</style>\n",
       "<table border=\"1\" class=\"dataframe\">\n",
       "  <thead>\n",
       "    <tr style=\"text-align: right;\">\n",
       "      <th></th>\n",
       "      <th>Age</th>\n",
       "      <th>neutrophil</th>\n",
       "      <th>serumLevelsOfWhiteBloodCell</th>\n",
       "      <th>lymphocytes</th>\n",
       "      <th>DurationOfIllness</th>\n",
       "      <th>Temperature</th>\n",
       "    </tr>\n",
       "  </thead>\n",
       "  <tbody>\n",
       "    <tr>\n",
       "      <th>count</th>\n",
       "      <td>1454.000000</td>\n",
       "      <td>103.000000</td>\n",
       "      <td>151.000000</td>\n",
       "      <td>156.000000</td>\n",
       "      <td>87.000000</td>\n",
       "      <td>628.000000</td>\n",
       "    </tr>\n",
       "    <tr>\n",
       "      <th>mean</th>\n",
       "      <td>26.471040</td>\n",
       "      <td>6.854078</td>\n",
       "      <td>6.885159</td>\n",
       "      <td>1.850154</td>\n",
       "      <td>13.988506</td>\n",
       "      <td>38.068312</td>\n",
       "    </tr>\n",
       "    <tr>\n",
       "      <th>std</th>\n",
       "      <td>21.487982</td>\n",
       "      <td>12.690131</td>\n",
       "      <td>4.346668</td>\n",
       "      <td>3.956668</td>\n",
       "      <td>9.043171</td>\n",
       "      <td>1.094468</td>\n",
       "    </tr>\n",
       "    <tr>\n",
       "      <th>min</th>\n",
       "      <td>0.000000</td>\n",
       "      <td>0.446000</td>\n",
       "      <td>0.500000</td>\n",
       "      <td>0.130000</td>\n",
       "      <td>1.000000</td>\n",
       "      <td>35.722222</td>\n",
       "    </tr>\n",
       "    <tr>\n",
       "      <th>25%</th>\n",
       "      <td>7.000000</td>\n",
       "      <td>2.160000</td>\n",
       "      <td>3.995000</td>\n",
       "      <td>0.637500</td>\n",
       "      <td>7.000000</td>\n",
       "      <td>37.222222</td>\n",
       "    </tr>\n",
       "    <tr>\n",
       "      <th>50%</th>\n",
       "      <td>24.000000</td>\n",
       "      <td>3.310000</td>\n",
       "      <td>5.690000</td>\n",
       "      <td>0.905500</td>\n",
       "      <td>12.000000</td>\n",
       "      <td>38.000000</td>\n",
       "    </tr>\n",
       "    <tr>\n",
       "      <th>75%</th>\n",
       "      <td>42.000000</td>\n",
       "      <td>6.645000</td>\n",
       "      <td>9.155000</td>\n",
       "      <td>1.605000</td>\n",
       "      <td>20.000000</td>\n",
       "      <td>38.722222</td>\n",
       "    </tr>\n",
       "    <tr>\n",
       "      <th>max</th>\n",
       "      <td>88.000000</td>\n",
       "      <td>93.000000</td>\n",
       "      <td>36.070000</td>\n",
       "      <td>30.600000</td>\n",
       "      <td>37.000000</td>\n",
       "      <td>42.222222</td>\n",
       "    </tr>\n",
       "  </tbody>\n",
       "</table>\n",
       "</div>"
      ],
      "text/plain": [
       "               Age  neutrophil  serumLevelsOfWhiteBloodCell  lymphocytes  \\\n",
       "count  1454.000000  103.000000                   151.000000   156.000000   \n",
       "mean     26.471040    6.854078                     6.885159     1.850154   \n",
       "std      21.487982   12.690131                     4.346668     3.956668   \n",
       "min       0.000000    0.446000                     0.500000     0.130000   \n",
       "25%       7.000000    2.160000                     3.995000     0.637500   \n",
       "50%      24.000000    3.310000                     5.690000     0.905500   \n",
       "75%      42.000000    6.645000                     9.155000     1.605000   \n",
       "max      88.000000   93.000000                    36.070000    30.600000   \n",
       "\n",
       "       DurationOfIllness  Temperature  \n",
       "count          87.000000   628.000000  \n",
       "mean           13.988506    38.068312  \n",
       "std             9.043171     1.094468  \n",
       "min             1.000000    35.722222  \n",
       "25%             7.000000    37.222222  \n",
       "50%            12.000000    38.000000  \n",
       "75%            20.000000    38.722222  \n",
       "max            37.000000    42.222222  "
      ]
     },
     "execution_count": 268,
     "metadata": {},
     "output_type": "execute_result"
    }
   ],
   "source": [
    "data.describe()"
   ]
  },
  {
   "cell_type": "code",
   "execution_count": 269,
   "metadata": {},
   "outputs": [
    {
     "data": {
      "text/plain": [
       "Diagnosis                      0.000000\n",
       "InitialPCRDiagnosis            0.929825\n",
       "Age                            0.018893\n",
       "Sex                            0.051282\n",
       "neutrophil                     0.930499\n",
       "serumLevelsOfWhiteBloodCell    0.898111\n",
       "lymphocytes                    0.894737\n",
       "CReactiveProteinLevels         0.907557\n",
       "DurationOfIllness              0.941296\n",
       "CTscanResults                  0.892713\n",
       "RiskFactors                    0.858974\n",
       "GroundGlassOpacity             0.937247\n",
       "Diarrhea                       0.696356\n",
       "Fever                          0.377193\n",
       "Coughing                       0.420378\n",
       "ShortnessOfBreath              0.949393\n",
       "SoreThroat                     0.547908\n",
       "NauseaVomitting                0.715924\n",
       "Temperature                    0.576248\n",
       "Fatigue                        0.641700\n",
       "dtype: float64"
      ]
     },
     "execution_count": 269,
     "metadata": {},
     "output_type": "execute_result"
    }
   ],
   "source": [
    "data.isnull().mean()\n",
    "#欠損値の割合"
   ]
  },
  {
   "cell_type": "code",
   "execution_count": 270,
   "metadata": {},
   "outputs": [
    {
     "data": {
      "text/plain": [
       "Diagnosis\n",
       "H1N1       0.723347\n",
       "COVID19    0.276653\n",
       "Name: proportion, dtype: float64"
      ]
     },
     "execution_count": 270,
     "metadata": {},
     "output_type": "execute_result"
    }
   ],
   "source": [
    "data[\"Diagnosis\"].value_counts(normalize=True)\n",
    "#目的変数の割合表示"
   ]
  },
  {
   "cell_type": "code",
   "execution_count": 271,
   "metadata": {},
   "outputs": [
    {
     "name": "stdout",
     "output_type": "stream",
     "text": [
      "<class 'pandas.core.frame.DataFrame'>\n",
      "RangeIndex: 1482 entries, 0 to 1481\n",
      "Data columns (total 20 columns):\n",
      " #   Column                       Non-Null Count  Dtype  \n",
      "---  ------                       --------------  -----  \n",
      " 0   Diagnosis                    1482 non-null   object \n",
      " 1   InitialPCRDiagnosis          104 non-null    object \n",
      " 2   Age                          1454 non-null   float64\n",
      " 3   Sex                          1406 non-null   object \n",
      " 4   neutrophil                   103 non-null    float64\n",
      " 5   serumLevelsOfWhiteBloodCell  151 non-null    float64\n",
      " 6   lymphocytes                  156 non-null    float64\n",
      " 7   CReactiveProteinLevels       137 non-null    object \n",
      " 8   DurationOfIllness            87 non-null     float64\n",
      " 9   CTscanResults                159 non-null    object \n",
      " 10  RiskFactors                  209 non-null    object \n",
      " 11  GroundGlassOpacity           93 non-null     object \n",
      " 12  Diarrhea                     450 non-null    object \n",
      " 13  Fever                        923 non-null    object \n",
      " 14  Coughing                     859 non-null    object \n",
      " 15  ShortnessOfBreath            75 non-null     object \n",
      " 16  SoreThroat                   670 non-null    object \n",
      " 17  NauseaVomitting              421 non-null    object \n",
      " 18  Temperature                  628 non-null    float64\n",
      " 19  Fatigue                      531 non-null    object \n",
      "dtypes: float64(6), object(14)\n",
      "memory usage: 231.7+ KB\n"
     ]
    }
   ],
   "source": [
    "data.info()\n",
    "#獲得特徴量の形式の確認"
   ]
  },
  {
   "cell_type": "markdown",
   "metadata": {},
   "source": [
    "**2. 量的データの欠損値の補完**"
   ]
  },
  {
   "cell_type": "code",
   "execution_count": 272,
   "metadata": {},
   "outputs": [
    {
     "data": {
      "text/plain": [
       "['Age',\n",
       " 'neutrophil',\n",
       " 'serumLevelsOfWhiteBloodCell',\n",
       " 'lymphocytes',\n",
       " 'DurationOfIllness',\n",
       " 'Temperature']"
      ]
     },
     "execution_count": 272,
     "metadata": {},
     "output_type": "execute_result"
    }
   ],
   "source": [
    "#量的データである列名\n",
    "numeric_types = ['float16', 'float32', 'float64', 'int16', 'int32', 'int64']\n",
    "numerical_columns = data.select_dtypes(include=numeric_types).columns.tolist()\n",
    "numerical_columns"
   ]
  },
  {
   "cell_type": "code",
   "execution_count": 273,
   "metadata": {},
   "outputs": [
    {
     "name": "stdout",
     "output_type": "stream",
     "text": [
      "0   NaN\n",
      "1   NaN\n",
      "2   NaN\n",
      "3   NaN\n",
      "4   NaN\n",
      "Name: lymphocytes, dtype: float64\n",
      "<class 'numpy.ndarray'>\n",
      "[[1.85015385]\n",
      " [1.85015385]\n",
      " [1.85015385]\n",
      " [1.85015385]\n",
      " [1.85015385]]\n"
     ]
    }
   ],
   "source": [
    "#アプローチ1 : 平均値・中央値補完\n",
    "num_impute = SimpleImputer(strategy='mean')  #平均値で補完する場合はmean 中央値の場合median\n",
    "print(data['lymphocytes'].head())\n",
    "result = num_impute.fit_transform(data[['lymphocytes']])   #ここで補完を行うが, 補完の結果numpyに変換されている\n",
    "print(type(result))\n",
    "print(result[:5])"
   ]
  },
  {
   "cell_type": "code",
   "execution_count": 274,
   "metadata": {},
   "outputs": [
    {
     "name": "stdout",
     "output_type": "stream",
     "text": [
      "<class 'numpy.ndarray'>\n",
      "[[999.]\n",
      " [999.]\n",
      " [999.]\n",
      " [999.]\n",
      " [999.]]\n"
     ]
    }
   ],
   "source": [
    "#アプローチ2 : 任意値補完\n",
    "arbitrary_impute = SimpleImputer(strategy=\"constant\", fill_value=999) #モデルが欠損値であると判断しやすい値を選ぶこと\n",
    "result = arbitrary_impute.fit_transform(data[['lymphocytes']]) #同様に補完を行う\n",
    "print(type(result))\n",
    "print(result[:5])"
   ]
  },
  {
   "cell_type": "code",
   "execution_count": 275,
   "metadata": {},
   "outputs": [
    {
     "name": "stdout",
     "output_type": "stream",
     "text": [
      "補完後タイプ :  <class 'pandas.core.frame.DataFrame'>\n"
     ]
    },
    {
     "data": {
      "text/plain": [
       "<Axes: title={'center': 'Lymphocytes (Imputed)'}, xlabel='cells/μL', ylabel='Frequency'>"
      ]
     },
     "execution_count": 275,
     "metadata": {},
     "output_type": "execute_result"
    },
    {
     "data": {
      "image/png": "[encoded data removed]",
      "text/plain": [
       "<Figure size 640x480 with 1 Axes>"
      ]
     },
     "metadata": {},
     "output_type": "display_data"
    },
    {
     "data": {
      "image/png": "[encoded data removed]",
      "text/plain": [
       "<Figure size 640x480 with 1 Axes>"
      ]
     },
     "metadata": {},
     "output_type": "display_data"
    }
   ],
   "source": [
    "#アプローチ3 : 分布末尾補完 (任意値補完の補完値が自動的に分布の末尾となるようになるようにした補完手法)\n",
    "\n",
    "#まずは補完前の「lymphpcytes」のヒストグラムの表示\n",
    "data[\"lymphocytes\"].plot(title=\"lymphocytes\", kind=\"hist\", xlabel=\"cells/μL\")\n",
    "#補完の実行\n",
    "result = EndTailImputer().fit_transform(data[['lymphocytes']])\n",
    "print(\"補完後タイプ : \", type(result))\n",
    "#補完後のヒストグラム表示\n",
    "result.plot(\n",
    "    title='Lymphocytes (Imputed)', kind='hist', xlabel='cells/μL'\n",
    ")"
   ]
  },
  {
   "cell_type": "markdown",
   "metadata": {},
   "source": [
    "**3. 質的データの欠損値の補完手法について**"
   ]
  },
  {
   "cell_type": "code",
   "execution_count": 276,
   "metadata": {},
   "outputs": [
    {
     "name": "stdout",
     "output_type": "stream",
     "text": [
      "=======\n",
      "InitialPCRDiagnosis\n",
      "-------\n",
      "InitialPCRDiagnosis\n",
      "NaN    1378\n",
      "Yes     100\n",
      "No        4\n",
      "Name: count, dtype: int64 \n",
      "\n",
      "=======\n",
      "Sex\n",
      "-------\n",
      "Sex\n",
      "M      748\n",
      "F      658\n",
      "NaN     76\n",
      "Name: count, dtype: int64 \n",
      "\n",
      "=======\n",
      "CReactiveProteinLevels\n",
      "-------\n",
      "CReactiveProteinLevels\n",
      "NaN           1345\n",
      "8                3\n",
      "0.5              3\n",
      "15               3\n",
      "111              2\n",
      "              ... \n",
      "5.78             1\n",
      "67.62            1\n",
      "13.2 mg/dL       1\n",
      "21.27            1\n",
      "0.6              1\n",
      "Name: count, Length: 121, dtype: int64 \n",
      "\n",
      "=======\n",
      "CTscanResults\n",
      "-------\n",
      "CTscanResults\n",
      "NaN    1323\n",
      "Yes     144\n",
      "No       15\n",
      "Name: count, dtype: int64 \n",
      "\n",
      "=======\n",
      "RiskFactors\n",
      "-------\n",
      "RiskFactors\n",
      "NaN                                                                   1273\n",
      "asthma                                                                  36\n",
      "pneumonia                                                               21\n",
      "immuno                                                                  21\n",
      "diabetes                                                                16\n",
      "                                                                      ... \n",
      "diabetes, Hypertension                                                   1\n",
      "Hypertension, Heart Disease, chronic obstructive pulmonary disease       1\n",
      "rheumatoid arthritis                                                     1\n",
      "hematological disease, immuno, Renal Disease                             1\n",
      "Lung Disease                                                             1\n",
      "Name: count, Length: 64, dtype: int64 \n",
      "\n",
      "=======\n",
      "GroundGlassOpacity\n",
      "-------\n",
      "GroundGlassOpacity\n",
      "NaN    1389\n",
      "Yes      90\n",
      "No        3\n",
      "Name: count, dtype: int64 \n",
      "\n",
      "=======\n",
      "Diarrhea\n",
      "-------\n",
      "Diarrhea\n",
      "NaN    1032\n",
      "No      340\n",
      "Yes     110\n",
      "Name: count, dtype: int64 \n",
      "\n",
      "=======\n",
      "Fever\n",
      "-------\n",
      "Fever\n",
      "Yes    777\n",
      "NaN    559\n",
      "No     146\n",
      "Name: count, dtype: int64 \n",
      "\n",
      "=======\n",
      "Coughing\n",
      "-------\n",
      "Coughing\n",
      "Yes    745\n",
      "NaN    623\n",
      "No     114\n",
      "Name: count, dtype: int64 \n",
      "\n",
      "=======\n",
      "ShortnessOfBreath\n",
      "-------\n",
      "ShortnessOfBreath\n",
      "NaN    1407\n",
      "Yes      45\n",
      "No       30\n",
      "Name: count, dtype: int64 \n",
      "\n",
      "=======\n",
      "SoreThroat\n",
      "-------\n",
      "SoreThroat\n",
      "NaN    812\n",
      "Yes    407\n",
      "No     263\n",
      "Name: count, dtype: int64 \n",
      "\n",
      "=======\n",
      "NauseaVomitting\n",
      "-------\n",
      "NauseaVomitting\n",
      "NaN    1061\n",
      "No      319\n",
      "Yes     102\n",
      "Name: count, dtype: int64 \n",
      "\n",
      "=======\n",
      "Fatigue\n",
      "-------\n",
      "Fatigue\n",
      "NaN    951\n",
      "Yes    348\n",
      "No     183\n",
      "Name: count, dtype: int64 \n",
      "\n"
     ]
    }
   ],
   "source": [
    "#質的特徴量の表示\n",
    "categolical_columns = data.select_dtypes(include=[\"object\"]).columns.to_list()\n",
    "categolical_columns.remove(\"Diagnosis\")\n",
    "for col in categolical_columns:\n",
    "    print(\"=======\")\n",
    "    print(col)\n",
    "    print(\"-------\")\n",
    "    print(data[col].value_counts(dropna=False), \"\\n\")\n",
    "\n",
    "# RiskFactorsの列はかなり多い変数を取るが, それ以外はほとんど2値だとわかる"
   ]
  },
  {
   "cell_type": "code",
   "execution_count": 277,
   "metadata": {},
   "outputs": [
    {
     "data": {
      "text/html": [
       "<div>\n",
       "<style scoped>\n",
       "    .dataframe tbody tr th:only-of-type {\n",
       "        vertical-align: middle;\n",
       "    }\n",
       "\n",
       "    .dataframe tbody tr th {\n",
       "        vertical-align: top;\n",
       "    }\n",
       "\n",
       "    .dataframe thead th {\n",
       "        text-align: right;\n",
       "    }\n",
       "</style>\n",
       "<table border=\"1\" class=\"dataframe\">\n",
       "  <thead>\n",
       "    <tr style=\"text-align: right;\">\n",
       "      <th></th>\n",
       "      <th>Diagnosis</th>\n",
       "      <th>InitialPCRDiagnosis</th>\n",
       "      <th>Age</th>\n",
       "      <th>neutrophil</th>\n",
       "      <th>serumLevelsOfWhiteBloodCell</th>\n",
       "      <th>lymphocytes</th>\n",
       "      <th>CReactiveProteinLevels</th>\n",
       "      <th>DurationOfIllness</th>\n",
       "      <th>CTscanResults</th>\n",
       "      <th>RiskFactors</th>\n",
       "      <th>GroundGlassOpacity</th>\n",
       "      <th>Diarrhea</th>\n",
       "      <th>Fever</th>\n",
       "      <th>Coughing</th>\n",
       "      <th>ShortnessOfBreath</th>\n",
       "      <th>SoreThroat</th>\n",
       "      <th>NauseaVomitting</th>\n",
       "      <th>Temperature</th>\n",
       "      <th>Fatigue</th>\n",
       "      <th>Female</th>\n",
       "    </tr>\n",
       "  </thead>\n",
       "  <tbody>\n",
       "    <tr>\n",
       "      <th>0</th>\n",
       "      <td>H1N1</td>\n",
       "      <td>NaN</td>\n",
       "      <td>67.0</td>\n",
       "      <td>NaN</td>\n",
       "      <td>NaN</td>\n",
       "      <td>NaN</td>\n",
       "      <td>NaN</td>\n",
       "      <td>NaN</td>\n",
       "      <td>NaN</td>\n",
       "      <td>NaN</td>\n",
       "      <td>NaN</td>\n",
       "      <td>NaN</td>\n",
       "      <td>True</td>\n",
       "      <td>True</td>\n",
       "      <td>NaN</td>\n",
       "      <td>False</td>\n",
       "      <td>NaN</td>\n",
       "      <td>38.111111</td>\n",
       "      <td>False</td>\n",
       "      <td>True</td>\n",
       "    </tr>\n",
       "    <tr>\n",
       "      <th>1</th>\n",
       "      <td>H1N1</td>\n",
       "      <td>NaN</td>\n",
       "      <td>29.0</td>\n",
       "      <td>NaN</td>\n",
       "      <td>NaN</td>\n",
       "      <td>NaN</td>\n",
       "      <td>NaN</td>\n",
       "      <td>NaN</td>\n",
       "      <td>NaN</td>\n",
       "      <td>NaN</td>\n",
       "      <td>NaN</td>\n",
       "      <td>NaN</td>\n",
       "      <td>NaN</td>\n",
       "      <td>NaN</td>\n",
       "      <td>NaN</td>\n",
       "      <td>NaN</td>\n",
       "      <td>NaN</td>\n",
       "      <td>NaN</td>\n",
       "      <td>NaN</td>\n",
       "      <td>False</td>\n",
       "    </tr>\n",
       "    <tr>\n",
       "      <th>2</th>\n",
       "      <td>H1N1</td>\n",
       "      <td>NaN</td>\n",
       "      <td>22.0</td>\n",
       "      <td>NaN</td>\n",
       "      <td>NaN</td>\n",
       "      <td>NaN</td>\n",
       "      <td>NaN</td>\n",
       "      <td>NaN</td>\n",
       "      <td>NaN</td>\n",
       "      <td>NaN</td>\n",
       "      <td>NaN</td>\n",
       "      <td>NaN</td>\n",
       "      <td>NaN</td>\n",
       "      <td>NaN</td>\n",
       "      <td>NaN</td>\n",
       "      <td>NaN</td>\n",
       "      <td>NaN</td>\n",
       "      <td>NaN</td>\n",
       "      <td>NaN</td>\n",
       "      <td>True</td>\n",
       "    </tr>\n",
       "    <tr>\n",
       "      <th>3</th>\n",
       "      <td>H1N1</td>\n",
       "      <td>NaN</td>\n",
       "      <td>20.0</td>\n",
       "      <td>NaN</td>\n",
       "      <td>NaN</td>\n",
       "      <td>NaN</td>\n",
       "      <td>NaN</td>\n",
       "      <td>NaN</td>\n",
       "      <td>NaN</td>\n",
       "      <td>immuno</td>\n",
       "      <td>NaN</td>\n",
       "      <td>NaN</td>\n",
       "      <td>True</td>\n",
       "      <td>True</td>\n",
       "      <td>NaN</td>\n",
       "      <td>False</td>\n",
       "      <td>NaN</td>\n",
       "      <td>36.555556</td>\n",
       "      <td>True</td>\n",
       "      <td>True</td>\n",
       "    </tr>\n",
       "    <tr>\n",
       "      <th>4</th>\n",
       "      <td>H1N1</td>\n",
       "      <td>NaN</td>\n",
       "      <td>21.0</td>\n",
       "      <td>NaN</td>\n",
       "      <td>NaN</td>\n",
       "      <td>NaN</td>\n",
       "      <td>NaN</td>\n",
       "      <td>NaN</td>\n",
       "      <td>NaN</td>\n",
       "      <td>NaN</td>\n",
       "      <td>NaN</td>\n",
       "      <td>NaN</td>\n",
       "      <td>NaN</td>\n",
       "      <td>NaN</td>\n",
       "      <td>NaN</td>\n",
       "      <td>NaN</td>\n",
       "      <td>NaN</td>\n",
       "      <td>NaN</td>\n",
       "      <td>NaN</td>\n",
       "      <td>False</td>\n",
       "    </tr>\n",
       "  </tbody>\n",
       "</table>\n",
       "</div>"
      ],
      "text/plain": [
       "  Diagnosis InitialPCRDiagnosis   Age  neutrophil  \\\n",
       "0      H1N1                 NaN  67.0         NaN   \n",
       "1      H1N1                 NaN  29.0         NaN   \n",
       "2      H1N1                 NaN  22.0         NaN   \n",
       "3      H1N1                 NaN  20.0         NaN   \n",
       "4      H1N1                 NaN  21.0         NaN   \n",
       "\n",
       "   serumLevelsOfWhiteBloodCell  lymphocytes CReactiveProteinLevels  \\\n",
       "0                          NaN          NaN                    NaN   \n",
       "1                          NaN          NaN                    NaN   \n",
       "2                          NaN          NaN                    NaN   \n",
       "3                          NaN          NaN                    NaN   \n",
       "4                          NaN          NaN                    NaN   \n",
       "\n",
       "   DurationOfIllness CTscanResults RiskFactors GroundGlassOpacity Diarrhea  \\\n",
       "0                NaN           NaN         NaN                NaN      NaN   \n",
       "1                NaN           NaN         NaN                NaN      NaN   \n",
       "2                NaN           NaN         NaN                NaN      NaN   \n",
       "3                NaN           NaN      immuno                NaN      NaN   \n",
       "4                NaN           NaN         NaN                NaN      NaN   \n",
       "\n",
       "  Fever Coughing ShortnessOfBreath SoreThroat NauseaVomitting  Temperature  \\\n",
       "0  True     True               NaN      False             NaN    38.111111   \n",
       "1   NaN      NaN               NaN        NaN             NaN          NaN   \n",
       "2   NaN      NaN               NaN        NaN             NaN          NaN   \n",
       "3  True     True               NaN      False             NaN    36.555556   \n",
       "4   NaN      NaN               NaN        NaN             NaN          NaN   \n",
       "\n",
       "  Fatigue  Female  \n",
       "0   False    True  \n",
       "1     NaN   False  \n",
       "2     NaN    True  \n",
       "3    True    True  \n",
       "4     NaN   False  "
      ]
     },
     "execution_count": 277,
     "metadata": {},
     "output_type": "execute_result"
    }
   ],
   "source": [
    "#\"Sex\"列をF,M表記からTrue,False表記に変換\n",
    "data[\"Female\"] = data[\"Sex\"] == \"F\"\n",
    "data = data.drop([\"Sex\"], axis=1)\n",
    "#Yes,Noの2値を取る質的変数について0,1変換\n",
    "data = data.replace({\"Yes\":True, \"No\":False})\n",
    "data.head()"
   ]
  },
  {
   "cell_type": "code",
   "execution_count": 278,
   "metadata": {},
   "outputs": [
    {
     "name": "stdout",
     "output_type": "stream",
     "text": [
      "0    True\n",
      "1     NaN\n",
      "2     NaN\n",
      "3    True\n",
      "4     NaN\n",
      "Name: Coughing, dtype: object\n",
      "補完後タイプ :  <class 'numpy.ndarray'>\n",
      "[[True]\n",
      " [True]\n",
      " [True]\n",
      " [True]\n",
      " [True]]\n"
     ]
    }
   ],
   "source": [
    "#質的変数の欠損値補完(3つのアプローチが存在)\n",
    "#アプローチ1 : 最頻カテゴリー補完\n",
    "print(data['Coughing'].head())\n",
    "cat_impute = SimpleImputer(strategy='most_frequent')\n",
    "result = cat_impute.fit_transform(data[['Coughing']])[:5]\n",
    "print(\"補完後タイプ : \", type(result)) #Numpyに変換される\n",
    "print(result)"
   ]
  },
  {
   "cell_type": "code",
   "execution_count": 279,
   "metadata": {},
   "outputs": [
    {
     "name": "stdout",
     "output_type": "stream",
     "text": [
      "['InitialPCRDiagnosis', 'CTscanResults', 'GroundGlassOpacity', 'Diarrhea', 'Fever', 'Coughing', 'ShortnessOfBreath', 'SoreThroat', 'NauseaVomitting', 'Fatigue', 'Female']\n",
      "[[False False False ... False False True]\n",
      " [False False False ... False False False]\n",
      " [False False False ... False False True]\n",
      " ...\n",
      " [False False False ... False False False]\n",
      " [False False False ... False False False]\n",
      " [False False False ... False False False]]\n"
     ]
    }
   ],
   "source": [
    "#アプローチ2 : 任意カテゴリー補完\n",
    "columns_dict = data.nunique().to_dict()\n",
    "binary_features = [key for key, value in columns_dict.items() if value==2]\n",
    "binary_features.remove(\"Diagnosis\")\n",
    "print(binary_features) #2値のみを取る変数を抽出\n",
    "fill_with_false = SimpleImputer(strategy=\"constant\", fill_value=False)\n",
    "result = fill_with_false.fit_transform(data[binary_features])\n",
    "print(result)"
   ]
  },
  {
   "cell_type": "markdown",
   "metadata": {},
   "source": [
    "**特徴量(数値)のスケーリング手法について**"
   ]
  },
  {
   "cell_type": "code",
   "execution_count": 280,
   "metadata": {},
   "outputs": [
    {
     "data": {
      "text/html": [
       "<div>\n",
       "<style scoped>\n",
       "    .dataframe tbody tr th:only-of-type {\n",
       "        vertical-align: middle;\n",
       "    }\n",
       "\n",
       "    .dataframe tbody tr th {\n",
       "        vertical-align: top;\n",
       "    }\n",
       "\n",
       "    .dataframe thead th {\n",
       "        text-align: right;\n",
       "    }\n",
       "</style>\n",
       "<table border=\"1\" class=\"dataframe\">\n",
       "  <thead>\n",
       "    <tr style=\"text-align: right;\">\n",
       "      <th></th>\n",
       "      <th>Age</th>\n",
       "      <th>neutrophil</th>\n",
       "      <th>serumLevelsOfWhiteBloodCell</th>\n",
       "      <th>lymphocytes</th>\n",
       "      <th>DurationOfIllness</th>\n",
       "      <th>Temperature</th>\n",
       "    </tr>\n",
       "  </thead>\n",
       "  <tbody>\n",
       "    <tr>\n",
       "      <th>count</th>\n",
       "      <td>1454.000000</td>\n",
       "      <td>103.000000</td>\n",
       "      <td>151.000000</td>\n",
       "      <td>156.000000</td>\n",
       "      <td>87.000000</td>\n",
       "      <td>628.000000</td>\n",
       "    </tr>\n",
       "    <tr>\n",
       "      <th>mean</th>\n",
       "      <td>0.300807</td>\n",
       "      <td>0.069236</td>\n",
       "      <td>0.179510</td>\n",
       "      <td>0.056454</td>\n",
       "      <td>0.360792</td>\n",
       "      <td>0.360937</td>\n",
       "    </tr>\n",
       "    <tr>\n",
       "      <th>std</th>\n",
       "      <td>0.244182</td>\n",
       "      <td>0.137111</td>\n",
       "      <td>0.122200</td>\n",
       "      <td>0.129855</td>\n",
       "      <td>0.251199</td>\n",
       "      <td>0.168380</td>\n",
       "    </tr>\n",
       "    <tr>\n",
       "      <th>min</th>\n",
       "      <td>0.000000</td>\n",
       "      <td>0.000000</td>\n",
       "      <td>0.000000</td>\n",
       "      <td>0.000000</td>\n",
       "      <td>0.000000</td>\n",
       "      <td>0.000000</td>\n",
       "    </tr>\n",
       "    <tr>\n",
       "      <th>25%</th>\n",
       "      <td>0.079545</td>\n",
       "      <td>0.018519</td>\n",
       "      <td>0.098257</td>\n",
       "      <td>0.016656</td>\n",
       "      <td>0.166667</td>\n",
       "      <td>0.230769</td>\n",
       "    </tr>\n",
       "    <tr>\n",
       "      <th>50%</th>\n",
       "      <td>0.272727</td>\n",
       "      <td>0.030944</td>\n",
       "      <td>0.145909</td>\n",
       "      <td>0.025451</td>\n",
       "      <td>0.305556</td>\n",
       "      <td>0.350427</td>\n",
       "    </tr>\n",
       "    <tr>\n",
       "      <th>75%</th>\n",
       "      <td>0.477273</td>\n",
       "      <td>0.066977</td>\n",
       "      <td>0.243323</td>\n",
       "      <td>0.048408</td>\n",
       "      <td>0.527778</td>\n",
       "      <td>0.461538</td>\n",
       "    </tr>\n",
       "    <tr>\n",
       "      <th>max</th>\n",
       "      <td>1.000000</td>\n",
       "      <td>1.000000</td>\n",
       "      <td>1.000000</td>\n",
       "      <td>1.000000</td>\n",
       "      <td>1.000000</td>\n",
       "      <td>1.000000</td>\n",
       "    </tr>\n",
       "  </tbody>\n",
       "</table>\n",
       "</div>"
      ],
      "text/plain": [
       "               Age  neutrophil  serumLevelsOfWhiteBloodCell  lymphocytes  \\\n",
       "count  1454.000000  103.000000                   151.000000   156.000000   \n",
       "mean      0.300807    0.069236                     0.179510     0.056454   \n",
       "std       0.244182    0.137111                     0.122200     0.129855   \n",
       "min       0.000000    0.000000                     0.000000     0.000000   \n",
       "25%       0.079545    0.018519                     0.098257     0.016656   \n",
       "50%       0.272727    0.030944                     0.145909     0.025451   \n",
       "75%       0.477273    0.066977                     0.243323     0.048408   \n",
       "max       1.000000    1.000000                     1.000000     1.000000   \n",
       "\n",
       "       DurationOfIllness  Temperature  \n",
       "count          87.000000   628.000000  \n",
       "mean            0.360792     0.360937  \n",
       "std             0.251199     0.168380  \n",
       "min             0.000000     0.000000  \n",
       "25%             0.166667     0.230769  \n",
       "50%             0.305556     0.350427  \n",
       "75%             0.527778     0.461538  \n",
       "max             1.000000     1.000000  "
      ]
     },
     "execution_count": 280,
     "metadata": {},
     "output_type": "execute_result"
    }
   ],
   "source": [
    "#Min-Maxスケーリング\n",
    "result = pd.DataFrame(MinMaxScaler().fit_transform(data[numerical_columns]), columns=numerical_columns)\n",
    "result.describe()\n"
   ]
  },
  {
   "cell_type": "code",
   "execution_count": 281,
   "metadata": {},
   "outputs": [
    {
     "data": {
      "text/html": [
       "<div>\n",
       "<style scoped>\n",
       "    .dataframe tbody tr th:only-of-type {\n",
       "        vertical-align: middle;\n",
       "    }\n",
       "\n",
       "    .dataframe tbody tr th {\n",
       "        vertical-align: top;\n",
       "    }\n",
       "\n",
       "    .dataframe thead th {\n",
       "        text-align: right;\n",
       "    }\n",
       "</style>\n",
       "<table border=\"1\" class=\"dataframe\">\n",
       "  <thead>\n",
       "    <tr style=\"text-align: right;\">\n",
       "      <th></th>\n",
       "      <th>Age</th>\n",
       "      <th>neutrophil</th>\n",
       "      <th>serumLevelsOfWhiteBloodCell</th>\n",
       "      <th>lymphocytes</th>\n",
       "      <th>DurationOfIllness</th>\n",
       "      <th>Temperature</th>\n",
       "    </tr>\n",
       "  </thead>\n",
       "  <tbody>\n",
       "    <tr>\n",
       "      <th>count</th>\n",
       "      <td>1.454000e+03</td>\n",
       "      <td>103.000000</td>\n",
       "      <td>1.510000e+02</td>\n",
       "      <td>1.560000e+02</td>\n",
       "      <td>8.700000e+01</td>\n",
       "      <td>6.280000e+02</td>\n",
       "    </tr>\n",
       "    <tr>\n",
       "      <th>mean</th>\n",
       "      <td>1.954726e-17</td>\n",
       "      <td>0.000000</td>\n",
       "      <td>-1.411674e-16</td>\n",
       "      <td>-1.708035e-17</td>\n",
       "      <td>-5.614921e-17</td>\n",
       "      <td>1.708471e-15</td>\n",
       "    </tr>\n",
       "    <tr>\n",
       "      <th>std</th>\n",
       "      <td>1.000344e+00</td>\n",
       "      <td>1.004890</td>\n",
       "      <td>1.003328e+00</td>\n",
       "      <td>1.003221e+00</td>\n",
       "      <td>1.005797e+00</td>\n",
       "      <td>1.000797e+00</td>\n",
       "    </tr>\n",
       "    <tr>\n",
       "      <th>min</th>\n",
       "      <td>-1.232324e+00</td>\n",
       "      <td>-0.507435</td>\n",
       "      <td>-1.473866e+00</td>\n",
       "      <td>-4.361482e-01</td>\n",
       "      <td>-1.444604e+00</td>\n",
       "      <td>-2.145299e+00</td>\n",
       "    </tr>\n",
       "    <tr>\n",
       "      <th>25%</th>\n",
       "      <td>-9.064480e-01</td>\n",
       "      <td>-0.371709</td>\n",
       "      <td>-6.671264e-01</td>\n",
       "      <td>-3.074706e-01</td>\n",
       "      <td>-7.772737e-01</td>\n",
       "      <td>-7.736770e-01</td>\n",
       "    </tr>\n",
       "    <tr>\n",
       "      <th>50%</th>\n",
       "      <td>-1.150359e-01</td>\n",
       "      <td>-0.280644</td>\n",
       "      <td>-2.758748e-01</td>\n",
       "      <td>-2.395187e-01</td>\n",
       "      <td>-2.211651e-01</td>\n",
       "      <td>-6.246559e-02</td>\n",
       "    </tr>\n",
       "    <tr>\n",
       "      <th>75%</th>\n",
       "      <td>7.229298e-01</td>\n",
       "      <td>-0.016556</td>\n",
       "      <td>5.239403e-01</td>\n",
       "      <td>-6.215921e-02</td>\n",
       "      <td>6.686088e-01</td>\n",
       "      <td>5.979450e-01</td>\n",
       "    </tr>\n",
       "    <tr>\n",
       "      <th>max</th>\n",
       "      <td>2.864398e+00</td>\n",
       "      <td>6.821614</td>\n",
       "      <td>6.736646e+00</td>\n",
       "      <td>7.289577e+00</td>\n",
       "      <td>2.559378e+00</td>\n",
       "      <td>3.798396e+00</td>\n",
       "    </tr>\n",
       "  </tbody>\n",
       "</table>\n",
       "</div>"
      ],
      "text/plain": [
       "                Age  neutrophil  serumLevelsOfWhiteBloodCell   lymphocytes  \\\n",
       "count  1.454000e+03  103.000000                 1.510000e+02  1.560000e+02   \n",
       "mean   1.954726e-17    0.000000                -1.411674e-16 -1.708035e-17   \n",
       "std    1.000344e+00    1.004890                 1.003328e+00  1.003221e+00   \n",
       "min   -1.232324e+00   -0.507435                -1.473866e+00 -4.361482e-01   \n",
       "25%   -9.064480e-01   -0.371709                -6.671264e-01 -3.074706e-01   \n",
       "50%   -1.150359e-01   -0.280644                -2.758748e-01 -2.395187e-01   \n",
       "75%    7.229298e-01   -0.016556                 5.239403e-01 -6.215921e-02   \n",
       "max    2.864398e+00    6.821614                 6.736646e+00  7.289577e+00   \n",
       "\n",
       "       DurationOfIllness   Temperature  \n",
       "count       8.700000e+01  6.280000e+02  \n",
       "mean       -5.614921e-17  1.708471e-15  \n",
       "std         1.005797e+00  1.000797e+00  \n",
       "min        -1.444604e+00 -2.145299e+00  \n",
       "25%        -7.772737e-01 -7.736770e-01  \n",
       "50%        -2.211651e-01 -6.246559e-02  \n",
       "75%         6.686088e-01  5.979450e-01  \n",
       "max         2.559378e+00  3.798396e+00  "
      ]
     },
     "execution_count": 281,
     "metadata": {},
     "output_type": "execute_result"
    }
   ],
   "source": [
    "#Z-scoreスケーリング\n",
    "result = pd.DataFrame(StandardScaler().fit_transform(data[numerical_columns]), columns=numerical_columns)\n",
    "result.describe()"
   ]
  },
  {
   "cell_type": "markdown",
   "metadata": {},
   "source": [
    "**4.1 数値特徴量の作成について**"
   ]
  },
  {
   "cell_type": "markdown",
   "metadata": {},
   "source": [
    "対数変換"
   ]
  },
  {
   "cell_type": "code",
   "execution_count": 282,
   "metadata": {},
   "outputs": [
    {
     "data": {
      "text/plain": [
       "<Axes: title={'center': 'Lymphocytes'}, xlabel='cells/μL', ylabel='Frequency'>"
      ]
     },
     "execution_count": 282,
     "metadata": {},
     "output_type": "execute_result"
    },
    {
     "data": {
      "image/png": "[encoded data removed]",
      "text/plain": [
       "<Figure size 640x480 with 1 Axes>"
      ]
     },
     "metadata": {},
     "output_type": "display_data"
    }
   ],
   "source": [
    "#対数変換\n",
    "data['lymphocytes'].plot(\n",
    "    title='Lymphocytes', kind='hist', xlabel='cells/μL'\n",
    ")  # 対数変換前"
   ]
  },
  {
   "cell_type": "code",
   "execution_count": 283,
   "metadata": {},
   "outputs": [
    {
     "data": {
      "text/plain": [
       "<Axes: title={'center': 'Lymphocytes (Log Transformed)'}, xlabel='cells/μL', ylabel='Frequency'>"
      ]
     },
     "execution_count": 283,
     "metadata": {},
     "output_type": "execute_result"
    },
    {
     "data": {
      "image/png": "[encoded data removed]",
      "text/plain": [
       "<Figure size 640x480 with 1 Axes>"
      ]
     },
     "metadata": {},
     "output_type": "display_data"
    }
   ],
   "source": [
    "data['lymphocytes'].map(np.log1p).plot(\n",
    "    title='Lymphocytes (Log Transformed)', kind='hist', xlabel='cells/μL'\n",
    ")  # 対数変換後 (やや正規分布に近付いていることが確認できる)"
   ]
  },
  {
   "cell_type": "markdown",
   "metadata": {},
   "source": [
    "Box-Cox変換"
   ]
  },
  {
   "cell_type": "code",
   "execution_count": 284,
   "metadata": {},
   "outputs": [],
   "source": [
    "#Box-Cox変換では正の値しか機能しないため0.01を加算する\n",
    "data['Age'] = data['Age'] + 0.01"
   ]
  },
  {
   "cell_type": "code",
   "execution_count": 285,
   "metadata": {},
   "outputs": [
    {
     "name": "stdout",
     "output_type": "stream",
     "text": [
      "λ値 :  [ 0.4103525  -0.22261794  0.12473205 -0.24415703  0.36376998 -7.01162899]\n"
     ]
    },
    {
     "data": {
      "image/png": "[encoded data removed]",
      "text/plain": [
       "<Figure size 1000x1000 with 6 Axes>"
      ]
     },
     "metadata": {},
     "output_type": "display_data"
    },
    {
     "data": {
      "image/png": "[encoded data removed]",
      "text/plain": [
       "<Figure size 1000x1000 with 6 Axes>"
      ]
     },
     "metadata": {},
     "output_type": "display_data"
    }
   ],
   "source": [
    "boxcox_transformer = PowerTransformer(method='box-cox', standardize=False)\n",
    "pd.DataFrame(data[numerical_columns]).hist(figsize=(10, 10))\n",
    "\n",
    "pd.DataFrame(\n",
    "    boxcox_transformer.fit_transform(data[numerical_columns]), \n",
    "    columns=numerical_columns\n",
    ").hist(figsize=(10, 10))\n",
    "print(\"λ値 : \", boxcox_transformer.lambdas_)"
   ]
  },
  {
   "cell_type": "markdown",
   "metadata": {},
   "source": [
    "**4.2 カテゴリー特徴量の作成について**"
   ]
  },
  {
   "cell_type": "markdown",
   "metadata": {},
   "source": [
    "ビニング(カテゴリー特徴量 or 量的特徴量 → カテゴリー特徴量)"
   ]
  },
  {
   "cell_type": "code",
   "execution_count": 286,
   "metadata": {},
   "outputs": [
    {
     "name": "stdout",
     "output_type": "stream",
     "text": [
      "[[2.]\n",
      " [0.]\n",
      " [0.]\n",
      " ...\n",
      " [0.]\n",
      " [0.]\n",
      " [0.]]\n"
     ]
    },
    {
     "name": "stderr",
     "output_type": "stream",
     "text": [
      "/usr/local/lib/python3.10/site-packages/sklearn/preprocessing/_discretization.py:248: FutureWarning: In version 1.5 onwards, subsample=200_000 will be used by default. Set subsample explicitly to silence this warning in the mean time. Set subsample=None to disable subsampling explicitly.\n",
      "  warnings.warn(\n"
     ]
    },
    {
     "data": {
      "text/plain": [
       "<Axes: title={'center': 'Age (Uniform Binning)'}, xlabel='Age', ylabel='Frequency'>"
      ]
     },
     "execution_count": 286,
     "metadata": {},
     "output_type": "execute_result"
    },
    {
     "data": {
      "image/png": "[encoded data removed]",
      "text/plain": [
       "<Figure size 640x480 with 1 Axes>"
      ]
     },
     "metadata": {},
     "output_type": "display_data"
    }
   ],
   "source": [
    "#3つのアプローチが存在\n",
    "#アプローチ1 : 均一ビニング(等間隔で分割)\n",
    "binner = KBinsDiscretizer(n_bins=3, encode=\"ordinal\", strategy=\"uniform\")\n",
    "binned_data = binner.fit_transform(data[[\"Age\"]].dropna())\n",
    "print(binned_data)\n",
    "pd.Series(binned_data.reshape(-1,)).plot(title=\"Age (Uniform Binning)\", kind=\"hist\", xlabel=\"Age\")"
   ]
  },
  {
   "cell_type": "code",
   "execution_count": 287,
   "metadata": {},
   "outputs": [
    {
     "name": "stdout",
     "output_type": "stream",
     "text": [
      "[[2.]\n",
      " [1.]\n",
      " [1.]\n",
      " ...\n",
      " [0.]\n",
      " [0.]\n",
      " [0.]]\n"
     ]
    },
    {
     "data": {
      "text/plain": [
       "<Axes: title={'center': 'Age (Quantile Binning)'}, xlabel='Age', ylabel='Frequency'>"
      ]
     },
     "execution_count": 287,
     "metadata": {},
     "output_type": "execute_result"
    },
    {
     "data": {
      "image/png": "[encoded data removed]",
      "text/plain": [
       "<Figure size 640x480 with 1 Axes>"
      ]
     },
     "metadata": {},
     "output_type": "display_data"
    }
   ],
   "source": [
    "#アプローチ2 : 均一ビニング(等量で分割)\n",
    "binner = KBinsDiscretizer(n_bins=3, encode=\"ordinal\", strategy=\"quantile\")\n",
    "binned_data = binner.fit_transform(data[[\"Age\"]].dropna())\n",
    "print(binned_data)\n",
    "pd.Series(binned_data.reshape(-1,)).plot(title=\"Age (Quantile Binning)\", kind=\"hist\", xlabel=\"Age\")"
   ]
  },
  {
   "cell_type": "code",
   "execution_count": 288,
   "metadata": {},
   "outputs": [
    {
     "name": "stderr",
     "output_type": "stream",
     "text": [
      "/usr/local/lib/python3.10/site-packages/sklearn/preprocessing/_discretization.py:248: FutureWarning: In version 1.5 onwards, subsample=200_000 will be used by default. Set subsample explicitly to silence this warning in the mean time. Set subsample=None to disable subsampling explicitly.\n",
      "  warnings.warn(\n"
     ]
    },
    {
     "name": "stdout",
     "output_type": "stream",
     "text": [
      "[[2.]\n",
      " [1.]\n",
      " [1.]\n",
      " ...\n",
      " [0.]\n",
      " [0.]\n",
      " [0.]]\n"
     ]
    },
    {
     "data": {
      "text/plain": [
       "<Axes: title={'center': 'Age (Kmeans Binning)'}, xlabel='Age', ylabel='Frequency'>"
      ]
     },
     "execution_count": 288,
     "metadata": {},
     "output_type": "execute_result"
    },
    {
     "data": {
      "image/png": "[encoded data removed]",
      "text/plain": [
       "<Figure size 640x480 with 1 Axes>"
      ]
     },
     "metadata": {},
     "output_type": "display_data"
    }
   ],
   "source": [
    "#アプローチ3 : k-meansビニング(k-meansクラスタリングで分割)\n",
    "binner = KBinsDiscretizer(n_bins=3, encode=\"ordinal\", strategy=\"kmeans\")\n",
    "binned_data = binner.fit_transform(data[[\"Age\"]].dropna())\n",
    "print(binned_data)\n",
    "pd.Series(binned_data.reshape(-1,)).plot(title=\"Age (Kmeans Binning)\", kind=\"hist\", xlabel=\"Age\")"
   ]
  },
  {
   "cell_type": "markdown",
   "metadata": {},
   "source": [
    "one-hot encoding(カテゴリー特徴量 → カテゴリー特徴量(モデルが解釈できる形))"
   ]
  },
  {
   "cell_type": "code",
   "execution_count": 289,
   "metadata": {},
   "outputs": [],
   "source": [
    "#今回のRsikFactors専用の変換機を作成\n",
    "\n",
    "class DummifyRiskFactor(BaseEstimator, TransformerMixin):\n",
    "    def __init__(self):\n",
    "        self.label_binarizer = None\n",
    "\n",
    "    def parse_risk_factors(self, comma_sep_factors):\n",
    "        '''asthma,heart disease -> ['asthma', 'heart disease']'''\n",
    "        try:\n",
    "            return [s.strip().lower() for s in comma_sep_factors.split(\",\")]\n",
    "        except:\n",
    "            return []\n",
    "    \n",
    "    def fit(self, X, y=None):\n",
    "        self.label_binarizer = MultiLabelBinarizer()\n",
    "        self.label_binarizer.fit(X.apply(self.parse_risk_factors))\n",
    "        return self\n",
    "    \n",
    "    def transform(self, X, y=None):\n",
    "        return self.label_binarizer.transform(X.apply(self.parse_risk_factors))\n"
   ]
  },
  {
   "cell_type": "code",
   "execution_count": 290,
   "metadata": {},
   "outputs": [
    {
     "data": {
      "text/html": [
       "<div>\n",
       "<style scoped>\n",
       "    .dataframe tbody tr th:only-of-type {\n",
       "        vertical-align: middle;\n",
       "    }\n",
       "\n",
       "    .dataframe tbody tr th {\n",
       "        vertical-align: top;\n",
       "    }\n",
       "\n",
       "    .dataframe thead th {\n",
       "        text-align: right;\n",
       "    }\n",
       "</style>\n",
       "<table border=\"1\" class=\"dataframe\">\n",
       "  <thead>\n",
       "    <tr style=\"text-align: right;\">\n",
       "      <th></th>\n",
       "      <th>asthma</th>\n",
       "      <th>athero</th>\n",
       "      <th>atopic dermatitis and repetitive respiratory infections</th>\n",
       "      <th>begin tumor (removed)</th>\n",
       "      <th>chronic</th>\n",
       "      <th>chronic endrocrine disorder</th>\n",
       "      <th>chronic liver dieseas</th>\n",
       "      <th>chronic liver disorder</th>\n",
       "      <th>chronic neurological disorders</th>\n",
       "      <th>chronic obstructive pulmonary disease</th>\n",
       "      <th>...</th>\n",
       "      <th>lung disease</th>\n",
       "      <th>myxoma of abdominal cavity</th>\n",
       "      <th>obesity</th>\n",
       "      <th>pneumomediastinum and subcutaneous emphysema</th>\n",
       "      <th>pneumonia</th>\n",
       "      <th>pre-eclampsia</th>\n",
       "      <th>prom</th>\n",
       "      <th>renal disease</th>\n",
       "      <th>respiratory disease</th>\n",
       "      <th>rheumatoid arthritis</th>\n",
       "    </tr>\n",
       "  </thead>\n",
       "  <tbody>\n",
       "    <tr>\n",
       "      <th>0</th>\n",
       "      <td>0</td>\n",
       "      <td>0</td>\n",
       "      <td>0</td>\n",
       "      <td>0</td>\n",
       "      <td>0</td>\n",
       "      <td>0</td>\n",
       "      <td>0</td>\n",
       "      <td>0</td>\n",
       "      <td>0</td>\n",
       "      <td>0</td>\n",
       "      <td>...</td>\n",
       "      <td>0</td>\n",
       "      <td>0</td>\n",
       "      <td>0</td>\n",
       "      <td>0</td>\n",
       "      <td>0</td>\n",
       "      <td>0</td>\n",
       "      <td>0</td>\n",
       "      <td>0</td>\n",
       "      <td>0</td>\n",
       "      <td>0</td>\n",
       "    </tr>\n",
       "    <tr>\n",
       "      <th>1</th>\n",
       "      <td>0</td>\n",
       "      <td>0</td>\n",
       "      <td>0</td>\n",
       "      <td>0</td>\n",
       "      <td>0</td>\n",
       "      <td>0</td>\n",
       "      <td>0</td>\n",
       "      <td>0</td>\n",
       "      <td>0</td>\n",
       "      <td>0</td>\n",
       "      <td>...</td>\n",
       "      <td>0</td>\n",
       "      <td>0</td>\n",
       "      <td>0</td>\n",
       "      <td>0</td>\n",
       "      <td>0</td>\n",
       "      <td>0</td>\n",
       "      <td>0</td>\n",
       "      <td>0</td>\n",
       "      <td>0</td>\n",
       "      <td>0</td>\n",
       "    </tr>\n",
       "    <tr>\n",
       "      <th>2</th>\n",
       "      <td>0</td>\n",
       "      <td>0</td>\n",
       "      <td>0</td>\n",
       "      <td>0</td>\n",
       "      <td>0</td>\n",
       "      <td>0</td>\n",
       "      <td>0</td>\n",
       "      <td>0</td>\n",
       "      <td>0</td>\n",
       "      <td>0</td>\n",
       "      <td>...</td>\n",
       "      <td>0</td>\n",
       "      <td>0</td>\n",
       "      <td>0</td>\n",
       "      <td>0</td>\n",
       "      <td>0</td>\n",
       "      <td>0</td>\n",
       "      <td>0</td>\n",
       "      <td>0</td>\n",
       "      <td>0</td>\n",
       "      <td>0</td>\n",
       "    </tr>\n",
       "    <tr>\n",
       "      <th>3</th>\n",
       "      <td>0</td>\n",
       "      <td>0</td>\n",
       "      <td>0</td>\n",
       "      <td>0</td>\n",
       "      <td>0</td>\n",
       "      <td>0</td>\n",
       "      <td>0</td>\n",
       "      <td>0</td>\n",
       "      <td>0</td>\n",
       "      <td>0</td>\n",
       "      <td>...</td>\n",
       "      <td>0</td>\n",
       "      <td>0</td>\n",
       "      <td>0</td>\n",
       "      <td>0</td>\n",
       "      <td>0</td>\n",
       "      <td>0</td>\n",
       "      <td>0</td>\n",
       "      <td>0</td>\n",
       "      <td>0</td>\n",
       "      <td>0</td>\n",
       "    </tr>\n",
       "    <tr>\n",
       "      <th>4</th>\n",
       "      <td>0</td>\n",
       "      <td>0</td>\n",
       "      <td>0</td>\n",
       "      <td>0</td>\n",
       "      <td>0</td>\n",
       "      <td>0</td>\n",
       "      <td>0</td>\n",
       "      <td>0</td>\n",
       "      <td>0</td>\n",
       "      <td>0</td>\n",
       "      <td>...</td>\n",
       "      <td>0</td>\n",
       "      <td>0</td>\n",
       "      <td>0</td>\n",
       "      <td>0</td>\n",
       "      <td>0</td>\n",
       "      <td>0</td>\n",
       "      <td>0</td>\n",
       "      <td>0</td>\n",
       "      <td>0</td>\n",
       "      <td>0</td>\n",
       "    </tr>\n",
       "  </tbody>\n",
       "</table>\n",
       "<p>5 rows × 41 columns</p>\n",
       "</div>"
      ],
      "text/plain": [
       "   asthma  athero  atopic dermatitis and repetitive respiratory infections  \\\n",
       "0       0       0                                                  0         \n",
       "1       0       0                                                  0         \n",
       "2       0       0                                                  0         \n",
       "3       0       0                                                  0         \n",
       "4       0       0                                                  0         \n",
       "\n",
       "   begin tumor (removed)  chronic  chronic endrocrine disorder  \\\n",
       "0                      0        0                            0   \n",
       "1                      0        0                            0   \n",
       "2                      0        0                            0   \n",
       "3                      0        0                            0   \n",
       "4                      0        0                            0   \n",
       "\n",
       "   chronic liver dieseas  chronic liver disorder  \\\n",
       "0                      0                       0   \n",
       "1                      0                       0   \n",
       "2                      0                       0   \n",
       "3                      0                       0   \n",
       "4                      0                       0   \n",
       "\n",
       "   chronic neurological disorders  chronic obstructive pulmonary disease  ...  \\\n",
       "0                               0                                      0  ...   \n",
       "1                               0                                      0  ...   \n",
       "2                               0                                      0  ...   \n",
       "3                               0                                      0  ...   \n",
       "4                               0                                      0  ...   \n",
       "\n",
       "   lung disease  myxoma of abdominal cavity  obesity  \\\n",
       "0             0                           0        0   \n",
       "1             0                           0        0   \n",
       "2             0                           0        0   \n",
       "3             0                           0        0   \n",
       "4             0                           0        0   \n",
       "\n",
       "   pneumomediastinum and subcutaneous emphysema  pneumonia  pre-eclampsia  \\\n",
       "0                                             0          0              0   \n",
       "1                                             0          0              0   \n",
       "2                                             0          0              0   \n",
       "3                                             0          0              0   \n",
       "4                                             0          0              0   \n",
       "\n",
       "   prom  renal disease  respiratory disease  rheumatoid arthritis  \n",
       "0     0              0                    0                     0  \n",
       "1     0              0                    0                     0  \n",
       "2     0              0                    0                     0  \n",
       "3     0              0                    0                     0  \n",
       "4     0              0                    0                     0  \n",
       "\n",
       "[5 rows x 41 columns]"
      ]
     },
     "execution_count": 290,
     "metadata": {},
     "output_type": "execute_result"
    }
   ],
   "source": [
    "#変換機を実際に使用\n",
    "drf = DummifyRiskFactor()\n",
    "risks = drf.fit_transform(data[\"RiskFactors\"])\n",
    "risk_df = pd.DataFrame(risks, columns=drf.label_binarizer.classes_)\n",
    "risk_df.head()"
   ]
  },
  {
   "cell_type": "markdown",
   "metadata": {},
   "source": [
    "ドメイン特徴量(ドメイン知識を使った新しい特徴量の作成)"
   ]
  },
  {
   "cell_type": "code",
   "execution_count": 291,
   "metadata": {},
   "outputs": [
    {
     "name": "stdout",
     "output_type": "stream",
     "text": [
      "FluSymptoms\n",
      "False    753\n",
      "True     729\n",
      "Name: count, dtype: int64\n",
      "データ欠損数 :  0\n"
     ]
    }
   ],
   "source": [
    "#新しい特徴量として「FluSymptom : インフルエンザの症状のうち, 2つ以上を満たしているかのbool値」を作成する\n",
    "data['FluSymptoms'] = data[['Diarrhea', 'Fever', 'Coughing', 'SoreThroat', 'NauseaVomitting', 'Fatigue']].sum(axis=1) >= 2\n",
    "print(data['FluSymptoms'].value_counts())\n",
    "print(\"データ欠損数 : \", data['FluSymptoms'].isnull().sum())"
   ]
  },
  {
   "cell_type": "markdown",
   "metadata": {},
   "source": [
    "**5. 特徴量エンジニアリングパイプラインの構築**"
   ]
  },
  {
   "cell_type": "markdown",
   "metadata": {},
   "source": [
    "グリッドサーチを行い, 決定木を学習し結果を表示するパイプラインのテンプレート関数の定義"
   ]
  },
  {
   "cell_type": "code",
   "execution_count": 292,
   "metadata": {},
   "outputs": [],
   "source": [
    "def simple_grid_search(x_train, y_train, x_test, y_test, FE_pipeline): #FE = Feature Engineering\n",
    "    params = {\n",
    "        \"max_depth\" : [10,None],\n",
    "        \"n_estimators\" : [10,50,100,500],\n",
    "        \"criterion\" : [\"gini\", \"entropy\"]\n",
    "    }\n",
    "    base_model = ExtraTreesClassifier()\n",
    "    grid_searcher = GridSearchCV(base_model, param_grid=params, cv=3)\n",
    "    \n",
    "    start_time = time.time()\n",
    "    if FE_pipeline:\n",
    "        parsed_xtrain = FE_pipeline.fit_transform(x_train, y_train)\n",
    "        parsed_xtest = FE_pipeline.transform(x_test)\n",
    "    else:\n",
    "        parsed_xtrain = x_train\n",
    "        parsed_xtest = x_test\n",
    "    parse_time = time.time()\n",
    "    print(f\"Parsing time : {parse_time-start_time}\")\n",
    "\n",
    "    grid_searcher.fit(parsed_xtrain, y_train)\n",
    "    fit_time = time.time()\n",
    "    print(f\"Training time : {fit_time-start_time}\")\n",
    "\n",
    "    best_model = grid_searcher.best_estimator_\n",
    "\n",
    "    print(classification_report(y_true=y_test, y_pred=best_model.predict(parsed_xtest)))\n",
    "    end_time = time.time()\n",
    "    print(f\"Overall time : {end_time-start_time}\\n\")\n",
    "\n",
    "    return best_model"
   ]
  },
  {
   "cell_type": "markdown",
   "metadata": {},
   "source": [
    "学習データの分割"
   ]
  },
  {
   "cell_type": "code",
   "execution_count": 293,
   "metadata": {},
   "outputs": [],
   "source": [
    "X, y = data.drop([\"Diagnosis\"], axis=1), data[\"Diagnosis\"]\n",
    "x_train, x_test, y_train, y_test = train_test_split(X, y, stratify=y, random_state=0, test_size=0.2)"
   ]
  },
  {
   "cell_type": "markdown",
   "metadata": {},
   "source": [
    "これまでで作成した各種特徴量エンジニアリングを適用するパイプラインの定義"
   ]
  },
  {
   "cell_type": "code",
   "execution_count": 294,
   "metadata": {},
   "outputs": [],
   "source": [
    "# リスク要因を処理するパイプライン\n",
    "risk_factor_pipeline = Pipeline(\n",
    "    [\n",
    "        (\"select_and_parse_risk_factor\", FunctionTransformer(lambda df:df[\"RiskFactors\"])),\n",
    "        (\"dummify\", DummifyRiskFactor())\n",
    "    ]\n",
    ")\n",
    "\n",
    "#2値のカテゴリー変数を補完する変換するパイプライン\n",
    "binary_pipeline = Pipeline(\n",
    "    [\n",
    "        (\"select_categorical_features\", FunctionTransformer(lambda df:df[binary_features])),\n",
    "        (\"fillna\", SimpleImputer(strategy=\"constant\", fill_value=False))\n",
    "    ]\n",
    ")\n",
    "\n",
    "#量的変数を補完するパイプライン\n",
    "numerical_pipeline = Pipeline(\n",
    "    [\n",
    "        (\"select_numerical_features\", FunctionTransformer(lambda df:df[numerical_columns])),\n",
    "        (\"impute\", SimpleImputer(strategy=\"median\"))\n",
    "    ]\n",
    ")"
   ]
  },
  {
   "cell_type": "markdown",
   "metadata": {},
   "source": [
    "各種パイプラインを与えた際のそれぞれの学習結果"
   ]
  },
  {
   "cell_type": "code",
   "execution_count": 295,
   "metadata": {},
   "outputs": [
    {
     "name": "stderr",
     "output_type": "stream",
     "text": [
      "/usr/local/lib/python3.10/site-packages/sklearn/preprocessing/_label.py:900: UserWarning: unknown class(es) ['atopic dermatitis and repetitive respiratory infections', 'begin tumor (removed)', 'chronic liver disorder', 'chronic neurological disorders', 'fatty liver', 'hypertention', 'lung disease', 'pneumomediastinum and subcutaneous emphysema', 'rheumatoid arthritis'] will be ignored\n",
      "  warnings.warn(\n"
     ]
    },
    {
     "name": "stdout",
     "output_type": "stream",
     "text": [
      "Parsing time : 0.003457307815551758\n"
     ]
    },
    {
     "name": "stdout",
     "output_type": "stream",
     "text": [
      "Training time : 3.6962878704071045\n",
      "              precision    recall  f1-score   support\n",
      "\n",
      "     COVID19       0.80      0.10      0.17        82\n",
      "        H1N1       0.74      0.99      0.85       215\n",
      "\n",
      "    accuracy                           0.74       297\n",
      "   macro avg       0.77      0.54      0.51       297\n",
      "weighted avg       0.76      0.74      0.66       297\n",
      "\n",
      "Overall time : 3.7018275260925293\n",
      "\n",
      "Parsing time : 0.003390073776245117\n",
      "Training time : 3.6728034019470215\n",
      "              precision    recall  f1-score   support\n",
      "\n",
      "     COVID19       0.82      0.62      0.71        82\n",
      "        H1N1       0.87      0.95      0.91       215\n",
      "\n",
      "    accuracy                           0.86       297\n",
      "   macro avg       0.85      0.79      0.81       297\n",
      "weighted avg       0.86      0.86      0.85       297\n",
      "\n",
      "Overall time : 3.6811206340789795\n",
      "\n",
      "Parsing time : 0.0027251243591308594\n",
      "Training time : 4.083220958709717\n",
      "              precision    recall  f1-score   support\n",
      "\n",
      "     COVID19       0.78      0.72      0.75        82\n",
      "        H1N1       0.90      0.92      0.91       215\n",
      "\n",
      "    accuracy                           0.87       297\n",
      "   macro avg       0.84      0.82      0.83       297\n",
      "weighted avg       0.86      0.87      0.86       297\n",
      "\n",
      "Overall time : 4.092771053314209\n",
      "\n"
     ]
    },
    {
     "data": {
      "text/html": [
       "<style>#sk-container-id-2 {\n",
       "  /* Definition of color scheme common for light and dark mode */\n",
       "  --sklearn-color-text: black;\n",
       "  --sklearn-color-line: gray;\n",
       "  /* Definition of color scheme for unfitted estimators */\n",
       "  --sklearn-color-unfitted-level-0: #fff5e6;\n",
       "  --sklearn-color-unfitted-level-1: #f6e4d2;\n",
       "  --sklearn-color-unfitted-level-2: #ffe0b3;\n",
       "  --sklearn-color-unfitted-level-3: chocolate;\n",
       "  /* Definition of color scheme for fitted estimators */\n",
       "  --sklearn-color-fitted-level-0: #f0f8ff;\n",
       "  --sklearn-color-fitted-level-1: #d4ebff;\n",
       "  --sklearn-color-fitted-level-2: #b3dbfd;\n",
       "  --sklearn-color-fitted-level-3: cornflowerblue;\n",
       "\n",
       "  /* Specific color for light theme */\n",
       "  --sklearn-color-text-on-default-background: var(--sg-text-color, var(--theme-code-foreground, var(--jp-content-font-color1, black)));\n",
       "  --sklearn-color-background: var(--sg-background-color, var(--theme-background, var(--jp-layout-color0, white)));\n",
       "  --sklearn-color-border-box: var(--sg-text-color, var(--theme-code-foreground, var(--jp-content-font-color1, black)));\n",
       "  --sklearn-color-icon: #696969;\n",
       "\n",
       "  @media (prefers-color-scheme: dark) {\n",
       "    /* Redefinition of color scheme for dark theme */\n",
       "    --sklearn-color-text-on-default-background: var(--sg-text-color, var(--theme-code-foreground, var(--jp-content-font-color1, white)));\n",
       "    --sklearn-color-background: var(--sg-background-color, var(--theme-background, var(--jp-layout-color0, #111)));\n",
       "    --sklearn-color-border-box: var(--sg-text-color, var(--theme-code-foreground, var(--jp-content-font-color1, white)));\n",
       "    --sklearn-color-icon: #878787;\n",
       "  }\n",
       "}\n",
       "\n",
       "#sk-container-id-2 {\n",
       "  color: var(--sklearn-color-text);\n",
       "}\n",
       "\n",
       "#sk-container-id-2 pre {\n",
       "  padding: 0;\n",
       "}\n",
       "\n",
       "#sk-container-id-2 input.sk-hidden--visually {\n",
       "  border: 0;\n",
       "  clip: rect(1px 1px 1px 1px);\n",
       "  clip: rect(1px, 1px, 1px, 1px);\n",
       "  height: 1px;\n",
       "  margin: -1px;\n",
       "  overflow: hidden;\n",
       "  padding: 0;\n",
       "  position: absolute;\n",
       "  width: 1px;\n",
       "}\n",
       "\n",
       "#sk-container-id-2 div.sk-dashed-wrapped {\n",
       "  border: 1px dashed var(--sklearn-color-line);\n",
       "  margin: 0 0.4em 0.5em 0.4em;\n",
       "  box-sizing: border-box;\n",
       "  padding-bottom: 0.4em;\n",
       "  background-color: var(--sklearn-color-background);\n",
       "}\n",
       "\n",
       "#sk-container-id-2 div.sk-container {\n",
       "  /* jupyter's `normalize.less` sets `[hidden] { display: none; }`\n",
       "     but bootstrap.min.css set `[hidden] { display: none !important; }`\n",
       "     so we also need the `!important` here to be able to override the\n",
       "     default hidden behavior on the sphinx rendered scikit-learn.org.\n",
       "     See: https://github.com/scikit-learn/scikit-learn/issues/21755 */\n",
       "  display: inline-block !important;\n",
       "  position: relative;\n",
       "}\n",
       "\n",
       "#sk-container-id-2 div.sk-text-repr-fallback {\n",
       "  display: none;\n",
       "}\n",
       "\n",
       "div.sk-parallel-item,\n",
       "div.sk-serial,\n",
       "div.sk-item {\n",
       "  /* draw centered vertical line to link estimators */\n",
       "  background-image: linear-gradient(var(--sklearn-color-text-on-default-background), var(--sklearn-color-text-on-default-background));\n",
       "  background-size: 2px 100%;\n",
       "  background-repeat: no-repeat;\n",
       "  background-position: center center;\n",
       "}\n",
       "\n",
       "/* Parallel-specific style estimator block */\n",
       "\n",
       "#sk-container-id-2 div.sk-parallel-item::after {\n",
       "  content: \"\";\n",
       "  width: 100%;\n",
       "  border-bottom: 2px solid var(--sklearn-color-text-on-default-background);\n",
       "  flex-grow: 1;\n",
       "}\n",
       "\n",
       "#sk-container-id-2 div.sk-parallel {\n",
       "  display: flex;\n",
       "  align-items: stretch;\n",
       "  justify-content: center;\n",
       "  background-color: var(--sklearn-color-background);\n",
       "  position: relative;\n",
       "}\n",
       "\n",
       "#sk-container-id-2 div.sk-parallel-item {\n",
       "  display: flex;\n",
       "  flex-direction: column;\n",
       "}\n",
       "\n",
       "#sk-container-id-2 div.sk-parallel-item:first-child::after {\n",
       "  align-self: flex-end;\n",
       "  width: 50%;\n",
       "}\n",
       "\n",
       "#sk-container-id-2 div.sk-parallel-item:last-child::after {\n",
       "  align-self: flex-start;\n",
       "  width: 50%;\n",
       "}\n",
       "\n",
       "#sk-container-id-2 div.sk-parallel-item:only-child::after {\n",
       "  width: 0;\n",
       "}\n",
       "\n",
       "/* Serial-specific style estimator block */\n",
       "\n",
       "#sk-container-id-2 div.sk-serial {\n",
       "  display: flex;\n",
       "  flex-direction: column;\n",
       "  align-items: center;\n",
       "  background-color: var(--sklearn-color-background);\n",
       "  padding-right: 1em;\n",
       "  padding-left: 1em;\n",
       "}\n",
       "\n",
       "\n",
       "/* Toggleable style: style used for estimator/Pipeline/ColumnTransformer box that is\n",
       "clickable and can be expanded/collapsed.\n",
       "- Pipeline and ColumnTransformer use this feature and define the default style\n",
       "- Estimators will overwrite some part of the style using the `sk-estimator` class\n",
       "*/\n",
       "\n",
       "/* Pipeline and ColumnTransformer style (default) */\n",
       "\n",
       "#sk-container-id-2 div.sk-toggleable {\n",
       "  /* Default theme specific background. It is overwritten whether we have a\n",
       "  specific estimator or a Pipeline/ColumnTransformer */\n",
       "  background-color: var(--sklearn-color-background);\n",
       "}\n",
       "\n",
       "/* Toggleable label */\n",
       "#sk-container-id-2 label.sk-toggleable__label {\n",
       "  cursor: pointer;\n",
       "  display: block;\n",
       "  width: 100%;\n",
       "  margin-bottom: 0;\n",
       "  padding: 0.5em;\n",
       "  box-sizing: border-box;\n",
       "  text-align: center;\n",
       "}\n",
       "\n",
       "#sk-container-id-2 label.sk-toggleable__label-arrow:before {\n",
       "  /* Arrow on the left of the label */\n",
       "  content: \"▸\";\n",
       "  float: left;\n",
       "  margin-right: 0.25em;\n",
       "  color: var(--sklearn-color-icon);\n",
       "}\n",
       "\n",
       "#sk-container-id-2 label.sk-toggleable__label-arrow:hover:before {\n",
       "  color: var(--sklearn-color-text);\n",
       "}\n",
       "\n",
       "/* Toggleable content - dropdown */\n",
       "\n",
       "#sk-container-id-2 div.sk-toggleable__content {\n",
       "  max-height: 0;\n",
       "  max-width: 0;\n",
       "  overflow: hidden;\n",
       "  text-align: left;\n",
       "  /* unfitted */\n",
       "  background-color: var(--sklearn-color-unfitted-level-0);\n",
       "}\n",
       "\n",
       "#sk-container-id-2 div.sk-toggleable__content.fitted {\n",
       "  /* fitted */\n",
       "  background-color: var(--sklearn-color-fitted-level-0);\n",
       "}\n",
       "\n",
       "#sk-container-id-2 div.sk-toggleable__content pre {\n",
       "  margin: 0.2em;\n",
       "  border-radius: 0.25em;\n",
       "  color: var(--sklearn-color-text);\n",
       "  /* unfitted */\n",
       "  background-color: var(--sklearn-color-unfitted-level-0);\n",
       "}\n",
       "\n",
       "#sk-container-id-2 div.sk-toggleable__content.fitted pre {\n",
       "  /* unfitted */\n",
       "  background-color: var(--sklearn-color-fitted-level-0);\n",
       "}\n",
       "\n",
       "#sk-container-id-2 input.sk-toggleable__control:checked~div.sk-toggleable__content {\n",
       "  /* Expand drop-down */\n",
       "  max-height: 200px;\n",
       "  max-width: 100%;\n",
       "  overflow: auto;\n",
       "}\n",
       "\n",
       "#sk-container-id-2 input.sk-toggleable__control:checked~label.sk-toggleable__label-arrow:before {\n",
       "  content: \"▾\";\n",
       "}\n",
       "\n",
       "/* Pipeline/ColumnTransformer-specific style */\n",
       "\n",
       "#sk-container-id-2 div.sk-label input.sk-toggleable__control:checked~label.sk-toggleable__label {\n",
       "  color: var(--sklearn-color-text);\n",
       "  background-color: var(--sklearn-color-unfitted-level-2);\n",
       "}\n",
       "\n",
       "#sk-container-id-2 div.sk-label.fitted input.sk-toggleable__control:checked~label.sk-toggleable__label {\n",
       "  background-color: var(--sklearn-color-fitted-level-2);\n",
       "}\n",
       "\n",
       "/* Estimator-specific style */\n",
       "\n",
       "/* Colorize estimator box */\n",
       "#sk-container-id-2 div.sk-estimator input.sk-toggleable__control:checked~label.sk-toggleable__label {\n",
       "  /* unfitted */\n",
       "  background-color: var(--sklearn-color-unfitted-level-2);\n",
       "}\n",
       "\n",
       "#sk-container-id-2 div.sk-estimator.fitted input.sk-toggleable__control:checked~label.sk-toggleable__label {\n",
       "  /* fitted */\n",
       "  background-color: var(--sklearn-color-fitted-level-2);\n",
       "}\n",
       "\n",
       "#sk-container-id-2 div.sk-label label.sk-toggleable__label,\n",
       "#sk-container-id-2 div.sk-label label {\n",
       "  /* The background is the default theme color */\n",
       "  color: var(--sklearn-color-text-on-default-background);\n",
       "}\n",
       "\n",
       "/* On hover, darken the color of the background */\n",
       "#sk-container-id-2 div.sk-label:hover label.sk-toggleable__label {\n",
       "  color: var(--sklearn-color-text);\n",
       "  background-color: var(--sklearn-color-unfitted-level-2);\n",
       "}\n",
       "\n",
       "/* Label box, darken color on hover, fitted */\n",
       "#sk-container-id-2 div.sk-label.fitted:hover label.sk-toggleable__label.fitted {\n",
       "  color: var(--sklearn-color-text);\n",
       "  background-color: var(--sklearn-color-fitted-level-2);\n",
       "}\n",
       "\n",
       "/* Estimator label */\n",
       "\n",
       "#sk-container-id-2 div.sk-label label {\n",
       "  font-family: monospace;\n",
       "  font-weight: bold;\n",
       "  display: inline-block;\n",
       "  line-height: 1.2em;\n",
       "}\n",
       "\n",
       "#sk-container-id-2 div.sk-label-container {\n",
       "  text-align: center;\n",
       "}\n",
       "\n",
       "/* Estimator-specific */\n",
       "#sk-container-id-2 div.sk-estimator {\n",
       "  font-family: monospace;\n",
       "  border: 1px dotted var(--sklearn-color-border-box);\n",
       "  border-radius: 0.25em;\n",
       "  box-sizing: border-box;\n",
       "  margin-bottom: 0.5em;\n",
       "  /* unfitted */\n",
       "  background-color: var(--sklearn-color-unfitted-level-0);\n",
       "}\n",
       "\n",
       "#sk-container-id-2 div.sk-estimator.fitted {\n",
       "  /* fitted */\n",
       "  background-color: var(--sklearn-color-fitted-level-0);\n",
       "}\n",
       "\n",
       "/* on hover */\n",
       "#sk-container-id-2 div.sk-estimator:hover {\n",
       "  /* unfitted */\n",
       "  background-color: var(--sklearn-color-unfitted-level-2);\n",
       "}\n",
       "\n",
       "#sk-container-id-2 div.sk-estimator.fitted:hover {\n",
       "  /* fitted */\n",
       "  background-color: var(--sklearn-color-fitted-level-2);\n",
       "}\n",
       "\n",
       "/* Specification for estimator info (e.g. \"i\" and \"?\") */\n",
       "\n",
       "/* Common style for \"i\" and \"?\" */\n",
       "\n",
       ".sk-estimator-doc-link,\n",
       "a:link.sk-estimator-doc-link,\n",
       "a:visited.sk-estimator-doc-link {\n",
       "  float: right;\n",
       "  font-size: smaller;\n",
       "  line-height: 1em;\n",
       "  font-family: monospace;\n",
       "  background-color: var(--sklearn-color-background);\n",
       "  border-radius: 1em;\n",
       "  height: 1em;\n",
       "  width: 1em;\n",
       "  text-decoration: none !important;\n",
       "  margin-left: 1ex;\n",
       "  /* unfitted */\n",
       "  border: var(--sklearn-color-unfitted-level-1) 1pt solid;\n",
       "  color: var(--sklearn-color-unfitted-level-1);\n",
       "}\n",
       "\n",
       ".sk-estimator-doc-link.fitted,\n",
       "a:link.sk-estimator-doc-link.fitted,\n",
       "a:visited.sk-estimator-doc-link.fitted {\n",
       "  /* fitted */\n",
       "  border: var(--sklearn-color-fitted-level-1) 1pt solid;\n",
       "  color: var(--sklearn-color-fitted-level-1);\n",
       "}\n",
       "\n",
       "/* On hover */\n",
       "div.sk-estimator:hover .sk-estimator-doc-link:hover,\n",
       ".sk-estimator-doc-link:hover,\n",
       "div.sk-label-container:hover .sk-estimator-doc-link:hover,\n",
       ".sk-estimator-doc-link:hover {\n",
       "  /* unfitted */\n",
       "  background-color: var(--sklearn-color-unfitted-level-3);\n",
       "  color: var(--sklearn-color-background);\n",
       "  text-decoration: none;\n",
       "}\n",
       "\n",
       "div.sk-estimator.fitted:hover .sk-estimator-doc-link.fitted:hover,\n",
       ".sk-estimator-doc-link.fitted:hover,\n",
       "div.sk-label-container:hover .sk-estimator-doc-link.fitted:hover,\n",
       ".sk-estimator-doc-link.fitted:hover {\n",
       "  /* fitted */\n",
       "  background-color: var(--sklearn-color-fitted-level-3);\n",
       "  color: var(--sklearn-color-background);\n",
       "  text-decoration: none;\n",
       "}\n",
       "\n",
       "/* Span, style for the box shown on hovering the info icon */\n",
       ".sk-estimator-doc-link span {\n",
       "  display: none;\n",
       "  z-index: 9999;\n",
       "  position: relative;\n",
       "  font-weight: normal;\n",
       "  right: .2ex;\n",
       "  padding: .5ex;\n",
       "  margin: .5ex;\n",
       "  width: min-content;\n",
       "  min-width: 20ex;\n",
       "  max-width: 50ex;\n",
       "  color: var(--sklearn-color-text);\n",
       "  box-shadow: 2pt 2pt 4pt #999;\n",
       "  /* unfitted */\n",
       "  background: var(--sklearn-color-unfitted-level-0);\n",
       "  border: .5pt solid var(--sklearn-color-unfitted-level-3);\n",
       "}\n",
       "\n",
       ".sk-estimator-doc-link.fitted span {\n",
       "  /* fitted */\n",
       "  background: var(--sklearn-color-fitted-level-0);\n",
       "  border: var(--sklearn-color-fitted-level-3);\n",
       "}\n",
       "\n",
       ".sk-estimator-doc-link:hover span {\n",
       "  display: block;\n",
       "}\n",
       "\n",
       "/* \"?\"-specific style due to the `<a>` HTML tag */\n",
       "\n",
       "#sk-container-id-2 a.estimator_doc_link {\n",
       "  float: right;\n",
       "  font-size: 1rem;\n",
       "  line-height: 1em;\n",
       "  font-family: monospace;\n",
       "  background-color: var(--sklearn-color-background);\n",
       "  border-radius: 1rem;\n",
       "  height: 1rem;\n",
       "  width: 1rem;\n",
       "  text-decoration: none;\n",
       "  /* unfitted */\n",
       "  color: var(--sklearn-color-unfitted-level-1);\n",
       "  border: var(--sklearn-color-unfitted-level-1) 1pt solid;\n",
       "}\n",
       "\n",
       "#sk-container-id-2 a.estimator_doc_link.fitted {\n",
       "  /* fitted */\n",
       "  border: var(--sklearn-color-fitted-level-1) 1pt solid;\n",
       "  color: var(--sklearn-color-fitted-level-1);\n",
       "}\n",
       "\n",
       "/* On hover */\n",
       "#sk-container-id-2 a.estimator_doc_link:hover {\n",
       "  /* unfitted */\n",
       "  background-color: var(--sklearn-color-unfitted-level-3);\n",
       "  color: var(--sklearn-color-background);\n",
       "  text-decoration: none;\n",
       "}\n",
       "\n",
       "#sk-container-id-2 a.estimator_doc_link.fitted:hover {\n",
       "  /* fitted */\n",
       "  background-color: var(--sklearn-color-fitted-level-3);\n",
       "}\n",
       "</style><div id=\"sk-container-id-2\" class=\"sk-top-container\"><div class=\"sk-text-repr-fallback\"><pre>ExtraTreesClassifier()</pre><b>In a Jupyter environment, please rerun this cell to show the HTML representation or trust the notebook. <br />On GitHub, the HTML representation is unable to render, please try loading this page with nbviewer.org.</b></div><div class=\"sk-container\" hidden><div class=\"sk-item\"><div class=\"sk-estimator fitted sk-toggleable\"><input class=\"sk-toggleable__control sk-hidden--visually\" id=\"sk-estimator-id-2\" type=\"checkbox\" checked><label for=\"sk-estimator-id-2\" class=\"sk-toggleable__label fitted sk-toggleable__label-arrow fitted\">&nbsp;&nbsp;ExtraTreesClassifier<a class=\"sk-estimator-doc-link fitted\" rel=\"noreferrer\" target=\"_blank\" href=\"https://scikit-learn.org/1.4/modules/generated/sklearn.ensemble.ExtraTreesClassifier.html\">?<span>Documentation for ExtraTreesClassifier</span></a><span class=\"sk-estimator-doc-link fitted\">i<span>Fitted</span></span></label><div class=\"sk-toggleable__content fitted\"><pre>ExtraTreesClassifier()</pre></div> </div></div></div></div>"
      ],
      "text/plain": [
       "ExtraTreesClassifier()"
      ]
     },
     "execution_count": 295,
     "metadata": {},
     "output_type": "execute_result"
    }
   ],
   "source": [
    "simple_grid_search(x_train, y_train, x_test, y_test, risk_factor_pipeline)\n",
    "simple_grid_search(x_train, y_train, x_test, y_test, binary_pipeline)\n",
    "simple_grid_search(x_train, y_train, x_test, y_test, numerical_pipeline)"
   ]
  },
  {
   "cell_type": "markdown",
   "metadata": {},
   "source": [
    "各種パイプラインを連結した場合の学習結果"
   ]
  },
  {
   "cell_type": "code",
   "execution_count": 297,
   "metadata": {},
   "outputs": [
    {
     "name": "stderr",
     "output_type": "stream",
     "text": [
      "/usr/local/lib/python3.10/site-packages/sklearn/preprocessing/_label.py:900: UserWarning: unknown class(es) ['atopic dermatitis and repetitive respiratory infections', 'begin tumor (removed)', 'chronic liver disorder', 'chronic neurological disorders', 'fatty liver', 'hypertention', 'lung disease', 'pneumomediastinum and subcutaneous emphysema', 'rheumatoid arthritis'] will be ignored\n",
      "  warnings.warn(\n"
     ]
    },
    {
     "name": "stdout",
     "output_type": "stream",
     "text": [
      "Parsing time : 0.02116084098815918\n",
      "Training time : 4.936810493469238\n",
      "              precision    recall  f1-score   support\n",
      "\n",
      "     COVID19       0.85      0.84      0.85        82\n",
      "        H1N1       0.94      0.94      0.94       215\n",
      "\n",
      "    accuracy                           0.92       297\n",
      "   macro avg       0.90      0.89      0.89       297\n",
      "weighted avg       0.92      0.92      0.92       297\n",
      "\n",
      "Overall time : 4.946187973022461\n",
      "\n"
     ]
    }
   ],
   "source": [
    "simple_fe = FeatureUnion([ #パイプラインを1つにまとめる\n",
    "    ('risk_factors', risk_factor_pipeline),\n",
    "    ('binary_pipeline', binary_pipeline),\n",
    "    ('numerical_pipeline', numerical_pipeline)\n",
    "])\n",
    "best_model = simple_grid_search(x_train, y_train, x_test, y_test, simple_fe)\n",
    "#前と比べると正答率は大きく上昇(0.92)している"
   ]
  },
  {
   "cell_type": "markdown",
   "metadata": {},
   "source": [
    "平均値補完を試した場合の学習結果"
   ]
  },
  {
   "cell_type": "code",
   "execution_count": 299,
   "metadata": {},
   "outputs": [
    {
     "name": "stderr",
     "output_type": "stream",
     "text": [
      "/usr/local/lib/python3.10/site-packages/sklearn/preprocessing/_label.py:900: UserWarning: unknown class(es) ['atopic dermatitis and repetitive respiratory infections', 'begin tumor (removed)', 'chronic liver disorder', 'chronic neurological disorders', 'fatty liver', 'hypertention', 'lung disease', 'pneumomediastinum and subcutaneous emphysema', 'rheumatoid arthritis'] will be ignored\n",
      "  warnings.warn(\n"
     ]
    },
    {
     "name": "stdout",
     "output_type": "stream",
     "text": [
      "Parsing time : 0.0203855037689209\n",
      "Training time : 4.900030612945557\n",
      "              precision    recall  f1-score   support\n",
      "\n",
      "     COVID19       0.87      0.84      0.86        82\n",
      "        H1N1       0.94      0.95      0.95       215\n",
      "\n",
      "    accuracy                           0.92       297\n",
      "   macro avg       0.91      0.90      0.90       297\n",
      "weighted avg       0.92      0.92      0.92       297\n",
      "\n",
      "Overall time : 4.9254961013793945\n",
      "\n"
     ]
    }
   ],
   "source": [
    "numerical_pipeline_2 = Pipeline( #平均値補完に変更\n",
    "    [\n",
    "        (\"select_numerical_features\", FunctionTransformer(lambda df:df[numerical_columns])),\n",
    "        (\"impute\", SimpleImputer(strategy=\"mean\")),\n",
    "        (\"scale\", StandardScaler())\n",
    "    ]\n",
    ")\n",
    "simple_fe_2 = FeatureUnion([\n",
    "    ('risk_factors', risk_factor_pipeline),\n",
    "    ('binary_pipeline', binary_pipeline),\n",
    "    ('numerical_pipeline', numerical_pipeline_2)\n",
    "])\n",
    "best_model = simple_grid_search(x_train, y_train, x_test, y_test, simple_fe_2)"
   ]
  },
  {
   "cell_type": "markdown",
   "metadata": {},
   "source": [
    "任意値補完を適用した場合"
   ]
  },
  {
   "cell_type": "code",
   "execution_count": 300,
   "metadata": {},
   "outputs": [
    {
     "name": "stderr",
     "output_type": "stream",
     "text": [
      "/usr/local/lib/python3.10/site-packages/sklearn/preprocessing/_label.py:900: UserWarning: unknown class(es) ['atopic dermatitis and repetitive respiratory infections', 'begin tumor (removed)', 'chronic liver disorder', 'chronic neurological disorders', 'fatty liver', 'hypertention', 'lung disease', 'pneumomediastinum and subcutaneous emphysema', 'rheumatoid arthritis'] will be ignored\n",
      "  warnings.warn(\n"
     ]
    },
    {
     "name": "stdout",
     "output_type": "stream",
     "text": [
      "Parsing time : 0.017113447189331055\n",
      "Training time : 4.66486120223999\n",
      "              precision    recall  f1-score   support\n",
      "\n",
      "     COVID19       0.89      0.87      0.88        82\n",
      "        H1N1       0.95      0.96      0.95       215\n",
      "\n",
      "    accuracy                           0.93       297\n",
      "   macro avg       0.92      0.91      0.92       297\n",
      "weighted avg       0.93      0.93      0.93       297\n",
      "\n",
      "Overall time : 4.6742963790893555\n",
      "\n"
     ]
    }
   ],
   "source": [
    "numerical_pipeline_3 = Pipeline( #任意値補完に変更\n",
    "    [\n",
    "        (\"select_numerical_features\", FunctionTransformer(lambda df:df[numerical_columns])),\n",
    "        (\"impute\", SimpleImputer(strategy=\"constant\", fill_value=999)),\n",
    "        (\"scale\", StandardScaler())\n",
    "    ]\n",
    ")\n",
    "simple_fe_3 = FeatureUnion([\n",
    "    ('risk_factors', risk_factor_pipeline),\n",
    "    ('binary_pipeline', binary_pipeline),\n",
    "    ('numerical_pipeline', numerical_pipeline_3)\n",
    "])\n",
    "best_model = simple_grid_search(x_train, y_train, x_test, y_test, simple_fe_3)"
   ]
  },
  {
   "cell_type": "markdown",
   "metadata": {},
   "source": [
    "分布末尾補完とBox-Cox変換を併用した場合"
   ]
  },
  {
   "cell_type": "code",
   "execution_count": 301,
   "metadata": {},
   "outputs": [
    {
     "name": "stderr",
     "output_type": "stream",
     "text": [
      "/usr/local/lib/python3.10/site-packages/sklearn/preprocessing/_label.py:900: UserWarning: unknown class(es) ['atopic dermatitis and repetitive respiratory infections', 'begin tumor (removed)', 'chronic liver disorder', 'chronic neurological disorders', 'fatty liver', 'hypertention', 'lung disease', 'pneumomediastinum and subcutaneous emphysema', 'rheumatoid arthritis'] will be ignored\n",
      "  warnings.warn(\n"
     ]
    },
    {
     "name": "stdout",
     "output_type": "stream",
     "text": [
      "Parsing time : 0.02948451042175293\n",
      "Training time : 5.295811653137207\n",
      "              precision    recall  f1-score   support\n",
      "\n",
      "     COVID19       0.81      0.84      0.83        82\n",
      "        H1N1       0.94      0.93      0.93       215\n",
      "\n",
      "    accuracy                           0.90       297\n",
      "   macro avg       0.88      0.88      0.88       297\n",
      "weighted avg       0.90      0.90      0.90       297\n",
      "\n",
      "Overall time : 5.320462703704834\n",
      "\n"
     ]
    }
   ],
   "source": [
    "numerical_pipeline_4 = Pipeline(\n",
    "    [\n",
    "        ('select_numerical_features', FunctionTransformer(lambda df: df[numerical_columns])),\n",
    "        ('box-cox', PowerTransformer(method='box-cox', standardize=True)),\n",
    "        ('turn_into_df', FunctionTransformer(lambda matrix: pd.DataFrame(matrix))), \n",
    "        ('end_of_tail', EndTailImputer(imputation_method='gaussian'))\n",
    "    ]\n",
    ")\n",
    "\n",
    "simple_fe_4 = FeatureUnion([\n",
    "    ('risk_factors', risk_factor_pipeline),\n",
    "    ('binary_pipeline', binary_pipeline),\n",
    "    ('numerical_pipeline', numerical_pipeline_4)\n",
    "])\n",
    "\n",
    "best_model = simple_grid_search(x_train, y_train, x_test, y_test, simple_fe_4)"
   ]
  },
  {
   "cell_type": "markdown",
   "metadata": {},
   "source": [
    "ビニングを適用した場合"
   ]
  },
  {
   "cell_type": "code",
   "execution_count": 302,
   "metadata": {},
   "outputs": [
    {
     "name": "stderr",
     "output_type": "stream",
     "text": [
      "/usr/local/lib/python3.10/site-packages/sklearn/preprocessing/_discretization.py:248: FutureWarning: In version 1.5 onwards, subsample=200_000 will be used by default. Set subsample explicitly to silence this warning in the mean time. Set subsample=None to disable subsampling explicitly.\n",
      "  warnings.warn(\n",
      "/usr/local/lib/python3.10/site-packages/sklearn/preprocessing/_discretization.py:322: UserWarning: Bins whose width are too small (i.e., <= 1e-8) in feature 5 are removed. Consider decreasing the number of bins.\n",
      "  warnings.warn(\n",
      "/usr/local/lib/python3.10/site-packages/sklearn/preprocessing/_label.py:900: UserWarning: unknown class(es) ['atopic dermatitis and repetitive respiratory infections', 'begin tumor (removed)', 'chronic liver disorder', 'chronic neurological disorders', 'fatty liver', 'hypertention', 'lung disease', 'pneumomediastinum and subcutaneous emphysema', 'rheumatoid arthritis'] will be ignored\n",
      "  warnings.warn(\n"
     ]
    },
    {
     "name": "stdout",
     "output_type": "stream",
     "text": [
      "Parsing time : 0.04536104202270508\n",
      "Training time : 5.094884634017944\n",
      "              precision    recall  f1-score   support\n",
      "\n",
      "     COVID19       0.85      0.80      0.82        82\n",
      "        H1N1       0.93      0.94      0.94       215\n",
      "\n",
      "    accuracy                           0.91       297\n",
      "   macro avg       0.89      0.87      0.88       297\n",
      "weighted avg       0.90      0.91      0.90       297\n",
      "\n",
      "Overall time : 5.104063987731934\n",
      "\n"
     ]
    }
   ],
   "source": [
    "numerical_pipeline_5 = Pipeline(\n",
    "    [\n",
    "        ('select_numerical_features', FunctionTransformer(lambda df: df[numerical_columns])),\n",
    "        ('box-cox', PowerTransformer(method='box-cox', standardize=True)),\n",
    "        ('turn_into_df', FunctionTransformer(lambda matrix: pd.DataFrame(matrix))),\n",
    "        ('end_of_tail', EndTailImputer(imputation_method='gaussian')),\n",
    "        ('ordinal_bins', KBinsDiscretizer(n_bins=10, encode='ordinal', strategy='kmeans'))\n",
    "    ]\n",
    ")\n",
    "\n",
    "simple_fe_5 = FeatureUnion([\n",
    "    ('risk_factors', risk_factor_pipeline),\n",
    "    ('binary_pipeline', binary_pipeline),\n",
    "    ('numerical_pipeline', numerical_pipeline_5)\n",
    "])\n",
    "\n",
    "best_model = simple_grid_search(x_train, y_train, x_test, y_test, simple_fe_5)"
   ]
  },
  {
   "cell_type": "markdown",
   "metadata": {},
   "source": [
    "**6. 特徴量選択**"
   ]
  },
  {
   "cell_type": "markdown",
   "metadata": {},
   "source": [
    "*リスクファクターに関する特徴量はone-hotエンコーディングによって次元数がかなり多く疎なデータであるため"
   ]
  },
  {
   "cell_type": "markdown",
   "metadata": {},
   "source": [
    "相互情報量を用いた選択"
   ]
  },
  {
   "cell_type": "code",
   "execution_count": 306,
   "metadata": {},
   "outputs": [
    {
     "name": "stderr",
     "output_type": "stream",
     "text": [
      "/usr/local/lib/python3.10/site-packages/sklearn/preprocessing/_discretization.py:248: FutureWarning: In version 1.5 onwards, subsample=200_000 will be used by default. Set subsample explicitly to silence this warning in the mean time. Set subsample=None to disable subsampling explicitly.\n",
      "  warnings.warn(\n",
      "/usr/local/lib/python3.10/site-packages/sklearn/preprocessing/_discretization.py:322: UserWarning: Bins whose width are too small (i.e., <= 1e-8) in feature 5 are removed. Consider decreasing the number of bins.\n",
      "  warnings.warn(\n",
      "/usr/local/lib/python3.10/site-packages/sklearn/preprocessing/_label.py:900: UserWarning: unknown class(es) ['atopic dermatitis and repetitive respiratory infections', 'begin tumor (removed)', 'chronic liver disorder', 'chronic neurological disorders', 'fatty liver', 'hypertention', 'lung disease', 'pneumomediastinum and subcutaneous emphysema', 'rheumatoid arthritis'] will be ignored\n",
      "  warnings.warn(\n"
     ]
    },
    {
     "name": "stdout",
     "output_type": "stream",
     "text": [
      "Parsing time : 0.11648297309875488\n",
      "Training time : 4.5188963413238525\n",
      "              precision    recall  f1-score   support\n",
      "\n",
      "     COVID19       0.86      0.82      0.84        82\n",
      "        H1N1       0.93      0.95      0.94       215\n",
      "\n",
      "    accuracy                           0.91       297\n",
      "   macro avg       0.90      0.88      0.89       297\n",
      "weighted avg       0.91      0.91      0.91       297\n",
      "\n",
      "Overall time : 4.52796483039856\n",
      "\n"
     ]
    }
   ],
   "source": [
    "risk_factor_pipeline_2 = Pipeline(  # add feature selection\n",
    "    [\n",
    "        ('select_risk_factor', FunctionTransformer(lambda df: df['RiskFactors'])),\n",
    "        ('dummify', DummifyRiskFactor()),\n",
    "        ('mutual_info', SelectKBest(mutual_info_classif, k=20)),  #特徴量選択\n",
    "    ]\n",
    ")\n",
    "\n",
    "simple_fe_6 = FeatureUnion([\n",
    "    ('risk_factors', risk_factor_pipeline_2),\n",
    "    ('binary_pipeline', binary_pipeline),\n",
    "    ('numerical_pipeline', numerical_pipeline_5)\n",
    "])\n",
    "\n",
    "best_model = simple_grid_search(x_train, y_train, x_test, y_test, simple_fe_6)"
   ]
  },
  {
   "cell_type": "markdown",
   "metadata": {},
   "source": [
    "カイニ乗検定を用いた選択"
   ]
  },
  {
   "cell_type": "code",
   "execution_count": 310,
   "metadata": {},
   "outputs": [
    {
     "name": "stderr",
     "output_type": "stream",
     "text": [
      "/usr/local/lib/python3.10/site-packages/sklearn/preprocessing/_discretization.py:248: FutureWarning: In version 1.5 onwards, subsample=200_000 will be used by default. Set subsample explicitly to silence this warning in the mean time. Set subsample=None to disable subsampling explicitly.\n",
      "  warnings.warn(\n",
      "/usr/local/lib/python3.10/site-packages/sklearn/preprocessing/_discretization.py:322: UserWarning: Bins whose width are too small (i.e., <= 1e-8) in feature 5 are removed. Consider decreasing the number of bins.\n",
      "  warnings.warn(\n",
      "/usr/local/lib/python3.10/site-packages/sklearn/preprocessing/_label.py:900: UserWarning: unknown class(es) ['atopic dermatitis and repetitive respiratory infections', 'begin tumor (removed)', 'chronic liver disorder', 'chronic neurological disorders', 'fatty liver', 'hypertention', 'lung disease', 'pneumomediastinum and subcutaneous emphysema', 'rheumatoid arthritis'] will be ignored\n",
      "  warnings.warn(\n"
     ]
    },
    {
     "name": "stdout",
     "output_type": "stream",
     "text": [
      "Parsing time : 0.05280351638793945\n",
      "Training time : 4.644176721572876\n",
      "              precision    recall  f1-score   support\n",
      "\n",
      "     COVID19       0.87      0.80      0.84        82\n",
      "        H1N1       0.93      0.95      0.94       215\n",
      "\n",
      "    accuracy                           0.91       297\n",
      "   macro avg       0.90      0.88      0.89       297\n",
      "weighted avg       0.91      0.91      0.91       297\n",
      "\n",
      "Overall time : 4.653013706207275\n",
      "\n"
     ]
    }
   ],
   "source": [
    "risk_factor_pipeline_3 = Pipeline(\n",
    "    [\n",
    "        ('select_risk_factor', FunctionTransformer(lambda df: df['RiskFactors'])),\n",
    "        ('dummify', DummifyRiskFactor()),\n",
    "        ('chi2', SelectKBest(chi2, k=10))  #特徴量選択\n",
    "    ]\n",
    ")\n",
    "\n",
    "simple_fe_7 = FeatureUnion([\n",
    "    ('risk_factors', risk_factor_pipeline_3),\n",
    "    ('binary_pipeline', binary_pipeline),\n",
    "    ('numerical_pipeline', numerical_pipeline_5)\n",
    "])\n",
    "\n",
    "best_model = simple_grid_search(x_train, y_train, x_test, y_test, simple_fe_7)"
   ]
  },
  {
   "cell_type": "markdown",
   "metadata": {},
   "source": [
    "決定木の特徴量重要度を用いて特徴量選択を行う"
   ]
  },
  {
   "cell_type": "code",
   "execution_count": 315,
   "metadata": {},
   "outputs": [
    {
     "name": "stderr",
     "output_type": "stream",
     "text": [
      "/usr/local/lib/python3.10/site-packages/sklearn/preprocessing/_discretization.py:248: FutureWarning: In version 1.5 onwards, subsample=200_000 will be used by default. Set subsample explicitly to silence this warning in the mean time. Set subsample=None to disable subsampling explicitly.\n",
      "  warnings.warn(\n",
      "/usr/local/lib/python3.10/site-packages/sklearn/preprocessing/_discretization.py:322: UserWarning: Bins whose width are too small (i.e., <= 1e-8) in feature 5 are removed. Consider decreasing the number of bins.\n",
      "  warnings.warn(\n",
      "/usr/local/lib/python3.10/site-packages/sklearn/preprocessing/_label.py:900: UserWarning: unknown class(es) ['atopic dermatitis and repetitive respiratory infections', 'begin tumor (removed)', 'chronic liver disorder', 'chronic neurological disorders', 'fatty liver', 'hypertention', 'lung disease', 'pneumomediastinum and subcutaneous emphysema', 'rheumatoid arthritis'] will be ignored\n",
      "  warnings.warn(\n"
     ]
    },
    {
     "name": "stdout",
     "output_type": "stream",
     "text": [
      "Parsing time : 0.048766136169433594\n",
      "Training time : 4.586491107940674\n",
      "              precision    recall  f1-score   support\n",
      "\n",
      "     COVID19       0.85      0.82      0.83        82\n",
      "        H1N1       0.93      0.94      0.94       215\n",
      "\n",
      "    accuracy                           0.91       297\n",
      "   macro avg       0.89      0.88      0.88       297\n",
      "weighted avg       0.91      0.91      0.91       297\n",
      "\n",
      "Overall time : 4.595502853393555\n",
      "\n"
     ]
    }
   ],
   "source": [
    "risk_factor_pipeline_3 = Pipeline(\n",
    "    [\n",
    "        ('select_risk_factor', FunctionTransformer(lambda df: df['RiskFactors'])),\n",
    "        ('dummify', DummifyRiskFactor()),\n",
    "        ('tree_selector', SelectFromModel(max_features=20, estimator=DecisionTreeClassifier())) #特徴量選択\n",
    "    ]\n",
    ")\n",
    "\n",
    "simple_fe_8 = FeatureUnion([\n",
    "    ('risk_factors', risk_factor_pipeline_3),\n",
    "    ('binary_pipeline', binary_pipeline),\n",
    "    ('numerical_pipeline', numerical_pipeline_5)\n",
    "])\n",
    "\n",
    "# let's stop here\n",
    "best_model = simple_grid_search(x_train, y_train, x_test, y_test, simple_fe_8)"
   ]
  },
  {
   "cell_type": "markdown",
   "metadata": {},
   "source": [
    "**疑問点**  \n",
    "なぜか触れられていないが「CReactiveProteinLevels」に関しては単位があったりなかったりで数値データのはずがカテゴリーデータになっている気がする  \n",
    "もしかするとあまりに欠損値が多いので無視する方針なのかもしれない\n"
   ]
  },
  {
   "cell_type": "code",
   "execution_count": 321,
   "metadata": {},
   "outputs": [
    {
     "data": {
      "text/plain": [
       "Diagnosis                       object\n",
       "InitialPCRDiagnosis             object\n",
       "Age                            float64\n",
       "neutrophil                     float64\n",
       "serumLevelsOfWhiteBloodCell    float64\n",
       "lymphocytes                    float64\n",
       "CReactiveProteinLevels          object\n",
       "DurationOfIllness              float64\n",
       "CTscanResults                   object\n",
       "RiskFactors                     object\n",
       "GroundGlassOpacity              object\n",
       "Diarrhea                        object\n",
       "Fever                           object\n",
       "Coughing                        object\n",
       "ShortnessOfBreath               object\n",
       "SoreThroat                      object\n",
       "NauseaVomitting                 object\n",
       "Temperature                    float64\n",
       "Fatigue                         object\n",
       "Female                            bool\n",
       "FluSymptoms                       bool\n",
       "dtype: object"
      ]
     },
     "execution_count": 321,
     "metadata": {},
     "output_type": "execute_result"
    }
   ],
   "source": [
    "data.dtypes"
   ]
  },
  {
   "cell_type": "code",
   "execution_count": 322,
   "metadata": {},
   "outputs": [
    {
     "data": {
      "text/plain": [
       "CReactiveProteinLevels\n",
       "8             3\n",
       "0.5           3\n",
       "15            3\n",
       "34.64         2\n",
       "5.6           2\n",
       "             ..\n",
       "8.88          1\n",
       "5.78          1\n",
       "67.62         1\n",
       "13.2 mg/dL    1\n",
       "0.6           1\n",
       "Name: count, Length: 120, dtype: int64"
      ]
     },
     "execution_count": 322,
     "metadata": {},
     "output_type": "execute_result"
    }
   ],
   "source": [
    "data[\"CReactiveProteinLevels\"].value_counts()"
   ]
  }
 ],
 "metadata": {
  "kernelspec": {
   "display_name": "Python 3",
   "language": "python",
   "name": "python3"
  },
  "language_info": {
   "codemirror_mode": {
    "name": "ipython",
    "version": 3
   },
   "file_extension": ".py",
   "mimetype": "text/x-python",
   "name": "python",
   "nbconvert_exporter": "python",
   "pygments_lexer": "ipython3",
   "version": "3.10.13"
  }
 },
 "nbformat": 4,
 "nbformat_minor": 2
}
